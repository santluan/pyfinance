{
 "cells": [
  {
   "cell_type": "markdown",
   "id": "8ff9f337",
   "metadata": {},
   "source": [
    "# Magic Formula\n",
    "\n",
    "Backtest da estratégia Magic Formula de Joel Greenblatt  \n",
    "link: https://www.amazon.com.br/F%C3%B3rmula-M%C3%A1gica-Greenblatt-Bater-Mercado/dp/8557173601"
   ]
  },
  {
   "cell_type": "markdown",
   "id": "586af8ae",
   "metadata": {},
   "source": [
    "## Coleta e tratamento de dados"
   ]
  },
  {
   "cell_type": "code",
   "execution_count": 1,
   "id": "29895495",
   "metadata": {},
   "outputs": [],
   "source": [
    "import pandas as pd\n",
    "import numpy as np\n",
    "import yfinance as yf\n",
    "import warnings\n",
    "from datetime import date\n",
    "from selenium import webdriver\n",
    "from selenium.webdriver.chrome.service import Service as ChromeService\n",
    "from webdriver_manager.chrome import ChromeDriverManager\n",
    "import os\n",
    "warnings.filterwarnings(\"ignore\")"
   ]
  },
  {
   "cell_type": "code",
   "execution_count": 4,
   "id": "1ff3c482",
   "metadata": {},
   "outputs": [],
   "source": [
    "chrome_install = ChromeDriverManager().install()\n",
    "\n",
    "folder = os.path.dirname(chrome_install)\n",
    "chromedriver_path = os.path.join(folder, \"chromedriver.exe\")\n",
    "\n",
    "service = webdriver.ChromeService(executable_path=chromedriver_path)\n",
    "\n",
    "driver = webdriver.Chrome(service=service)\n",
    "\n",
    "driver.get('https://www.fundamentus.com.br/resultado.php')"
   ]
  },
  {
   "cell_type": "code",
   "execution_count": 11,
   "id": "e310516c",
   "metadata": {},
   "outputs": [
    {
     "data": {
      "application/vnd.microsoft.datawrangler.viewer.v0+json": {
       "columns": [
        {
         "name": "index",
         "rawType": "int64",
         "type": "integer"
        },
        {
         "name": "Papel",
         "rawType": "object",
         "type": "string"
        },
        {
         "name": "Cotação",
         "rawType": "float64",
         "type": "float"
        },
        {
         "name": "P/L",
         "rawType": "float64",
         "type": "float"
        },
        {
         "name": "P/VP",
         "rawType": "float64",
         "type": "float"
        },
        {
         "name": "PSR",
         "rawType": "float64",
         "type": "float"
        },
        {
         "name": "Div.Yield",
         "rawType": "object",
         "type": "string"
        },
        {
         "name": "P/Ativo",
         "rawType": "float64",
         "type": "float"
        },
        {
         "name": "P/Cap.Giro",
         "rawType": "float64",
         "type": "float"
        },
        {
         "name": "P/EBIT",
         "rawType": "float64",
         "type": "float"
        },
        {
         "name": "P/Ativ Circ.Liq",
         "rawType": "float64",
         "type": "float"
        },
        {
         "name": "EV/EBIT",
         "rawType": "float64",
         "type": "float"
        },
        {
         "name": "EV/EBITDA",
         "rawType": "float64",
         "type": "float"
        },
        {
         "name": "Mrg Ebit",
         "rawType": "object",
         "type": "string"
        },
        {
         "name": "Mrg. Líq.",
         "rawType": "object",
         "type": "string"
        },
        {
         "name": "Liq. Corr.",
         "rawType": "float64",
         "type": "float"
        },
        {
         "name": "ROIC",
         "rawType": "object",
         "type": "string"
        },
        {
         "name": "ROE",
         "rawType": "object",
         "type": "string"
        },
        {
         "name": "Liq.2meses",
         "rawType": "float64",
         "type": "float"
        },
        {
         "name": "Patrim. Líq",
         "rawType": "float64",
         "type": "float"
        },
        {
         "name": "Dív.Brut/ Patrim.",
         "rawType": "float64",
         "type": "float"
        },
        {
         "name": "Cresc. Rec.5a",
         "rawType": "object",
         "type": "string"
        }
       ],
       "ref": "14880aab-bce4-4fbd-b0bc-bca87056fe25",
       "rows": [
        [
         "0",
         "IVTT3",
         "0.0",
         "0.0",
         "0.0",
         "0.0",
         "0,00%",
         "0.0",
         "0.0",
         "0.0",
         "0.0",
         "0.0",
         "0.0",
         "0,00%",
         "0,00%",
         "0.0",
         "0,00%",
         "-0,40%",
         "0.0",
         "1083050000.0",
         "0.0",
         "20,67%"
        ],
        [
         "1",
         "MNSA4",
         "0.47",
         "0.0",
         "0.0",
         "0.0",
         "0,00%",
         "0.0",
         "0.0",
         "0.0",
         "0.0",
         "0.0",
         "0.0",
         "-208,15%",
         "-362,66%",
         "3.63",
         "-13,50%",
         "145,70%",
         "0.0",
         "-9105000.0",
         "-6.52",
         "-41,11%"
        ],
        [
         "2",
         "MNSA3",
         "0.42",
         "0.0",
         "0.0",
         "0.0",
         "0,00%",
         "0.0",
         "0.0",
         "0.0",
         "0.0",
         "0.0",
         "0.0",
         "-208,15%",
         "-362,66%",
         "3.63",
         "-13,50%",
         "145,70%",
         "0.0",
         "-9105000.0",
         "-6.52",
         "-41,11%"
        ],
        [
         "3",
         "PORP4",
         "2.4",
         "0.0",
         "0.0",
         "0.0",
         "0,00%",
         "0.0",
         "0.0",
         "0.0",
         "0.0",
         "0.0",
         "0.0",
         "0,00%",
         "0,00%",
         "0.0",
         "0,00%",
         "-2,08%",
         "0.0",
         "22399000.0",
         "0.0",
         "13,66%"
        ],
        [
         "4",
         "POPR4",
         "10.17",
         "0.0",
         "0.0",
         "0.0",
         "0,00%",
         "0.0",
         "0.0",
         "0.0",
         "0.0",
         "0.0",
         "0.0",
         "8,66%",
         "5,65%",
         "1.08",
         "15,25%",
         "19,93%",
         "0.0",
         "545803000.0",
         "0.82",
         "30,93%"
        ]
       ],
       "shape": {
        "columns": 21,
        "rows": 5
       }
      },
      "text/html": [
       "<div>\n",
       "<style scoped>\n",
       "    .dataframe tbody tr th:only-of-type {\n",
       "        vertical-align: middle;\n",
       "    }\n",
       "\n",
       "    .dataframe tbody tr th {\n",
       "        vertical-align: top;\n",
       "    }\n",
       "\n",
       "    .dataframe thead th {\n",
       "        text-align: right;\n",
       "    }\n",
       "</style>\n",
       "<table border=\"1\" class=\"dataframe\">\n",
       "  <thead>\n",
       "    <tr style=\"text-align: right;\">\n",
       "      <th></th>\n",
       "      <th>Papel</th>\n",
       "      <th>Cotação</th>\n",
       "      <th>P/L</th>\n",
       "      <th>P/VP</th>\n",
       "      <th>PSR</th>\n",
       "      <th>Div.Yield</th>\n",
       "      <th>P/Ativo</th>\n",
       "      <th>P/Cap.Giro</th>\n",
       "      <th>P/EBIT</th>\n",
       "      <th>P/Ativ Circ.Liq</th>\n",
       "      <th>...</th>\n",
       "      <th>EV/EBITDA</th>\n",
       "      <th>Mrg Ebit</th>\n",
       "      <th>Mrg. Líq.</th>\n",
       "      <th>Liq. Corr.</th>\n",
       "      <th>ROIC</th>\n",
       "      <th>ROE</th>\n",
       "      <th>Liq.2meses</th>\n",
       "      <th>Patrim. Líq</th>\n",
       "      <th>Dív.Brut/ Patrim.</th>\n",
       "      <th>Cresc. Rec.5a</th>\n",
       "    </tr>\n",
       "  </thead>\n",
       "  <tbody>\n",
       "    <tr>\n",
       "      <th>0</th>\n",
       "      <td>IVTT3</td>\n",
       "      <td>0.00</td>\n",
       "      <td>0.0</td>\n",
       "      <td>0.0</td>\n",
       "      <td>0.0</td>\n",
       "      <td>0,00%</td>\n",
       "      <td>0.0</td>\n",
       "      <td>0.0</td>\n",
       "      <td>0.0</td>\n",
       "      <td>0.0</td>\n",
       "      <td>...</td>\n",
       "      <td>0.0</td>\n",
       "      <td>0,00%</td>\n",
       "      <td>0,00%</td>\n",
       "      <td>0.00</td>\n",
       "      <td>0,00%</td>\n",
       "      <td>-0,40%</td>\n",
       "      <td>0.0</td>\n",
       "      <td>1.083050e+09</td>\n",
       "      <td>0.00</td>\n",
       "      <td>20,67%</td>\n",
       "    </tr>\n",
       "    <tr>\n",
       "      <th>1</th>\n",
       "      <td>MNSA4</td>\n",
       "      <td>0.47</td>\n",
       "      <td>0.0</td>\n",
       "      <td>0.0</td>\n",
       "      <td>0.0</td>\n",
       "      <td>0,00%</td>\n",
       "      <td>0.0</td>\n",
       "      <td>0.0</td>\n",
       "      <td>0.0</td>\n",
       "      <td>0.0</td>\n",
       "      <td>...</td>\n",
       "      <td>0.0</td>\n",
       "      <td>-208,15%</td>\n",
       "      <td>-362,66%</td>\n",
       "      <td>3.63</td>\n",
       "      <td>-13,50%</td>\n",
       "      <td>145,70%</td>\n",
       "      <td>0.0</td>\n",
       "      <td>-9.105000e+06</td>\n",
       "      <td>-6.52</td>\n",
       "      <td>-41,11%</td>\n",
       "    </tr>\n",
       "    <tr>\n",
       "      <th>2</th>\n",
       "      <td>MNSA3</td>\n",
       "      <td>0.42</td>\n",
       "      <td>0.0</td>\n",
       "      <td>0.0</td>\n",
       "      <td>0.0</td>\n",
       "      <td>0,00%</td>\n",
       "      <td>0.0</td>\n",
       "      <td>0.0</td>\n",
       "      <td>0.0</td>\n",
       "      <td>0.0</td>\n",
       "      <td>...</td>\n",
       "      <td>0.0</td>\n",
       "      <td>-208,15%</td>\n",
       "      <td>-362,66%</td>\n",
       "      <td>3.63</td>\n",
       "      <td>-13,50%</td>\n",
       "      <td>145,70%</td>\n",
       "      <td>0.0</td>\n",
       "      <td>-9.105000e+06</td>\n",
       "      <td>-6.52</td>\n",
       "      <td>-41,11%</td>\n",
       "    </tr>\n",
       "    <tr>\n",
       "      <th>3</th>\n",
       "      <td>PORP4</td>\n",
       "      <td>2.40</td>\n",
       "      <td>0.0</td>\n",
       "      <td>0.0</td>\n",
       "      <td>0.0</td>\n",
       "      <td>0,00%</td>\n",
       "      <td>0.0</td>\n",
       "      <td>0.0</td>\n",
       "      <td>0.0</td>\n",
       "      <td>0.0</td>\n",
       "      <td>...</td>\n",
       "      <td>0.0</td>\n",
       "      <td>0,00%</td>\n",
       "      <td>0,00%</td>\n",
       "      <td>0.00</td>\n",
       "      <td>0,00%</td>\n",
       "      <td>-2,08%</td>\n",
       "      <td>0.0</td>\n",
       "      <td>2.239900e+07</td>\n",
       "      <td>0.00</td>\n",
       "      <td>13,66%</td>\n",
       "    </tr>\n",
       "    <tr>\n",
       "      <th>4</th>\n",
       "      <td>POPR4</td>\n",
       "      <td>10.17</td>\n",
       "      <td>0.0</td>\n",
       "      <td>0.0</td>\n",
       "      <td>0.0</td>\n",
       "      <td>0,00%</td>\n",
       "      <td>0.0</td>\n",
       "      <td>0.0</td>\n",
       "      <td>0.0</td>\n",
       "      <td>0.0</td>\n",
       "      <td>...</td>\n",
       "      <td>0.0</td>\n",
       "      <td>8,66%</td>\n",
       "      <td>5,65%</td>\n",
       "      <td>1.08</td>\n",
       "      <td>15,25%</td>\n",
       "      <td>19,93%</td>\n",
       "      <td>0.0</td>\n",
       "      <td>5.458030e+08</td>\n",
       "      <td>0.82</td>\n",
       "      <td>30,93%</td>\n",
       "    </tr>\n",
       "  </tbody>\n",
       "</table>\n",
       "<p>5 rows × 21 columns</p>\n",
       "</div>"
      ],
      "text/plain": [
       "   Papel  Cotação  P/L  P/VP  PSR Div.Yield  P/Ativo  P/Cap.Giro  P/EBIT  \\\n",
       "0  IVTT3     0.00  0.0   0.0  0.0     0,00%      0.0         0.0     0.0   \n",
       "1  MNSA4     0.47  0.0   0.0  0.0     0,00%      0.0         0.0     0.0   \n",
       "2  MNSA3     0.42  0.0   0.0  0.0     0,00%      0.0         0.0     0.0   \n",
       "3  PORP4     2.40  0.0   0.0  0.0     0,00%      0.0         0.0     0.0   \n",
       "4  POPR4    10.17  0.0   0.0  0.0     0,00%      0.0         0.0     0.0   \n",
       "\n",
       "   P/Ativ Circ.Liq  ...  EV/EBITDA  Mrg Ebit Mrg. Líq. Liq. Corr.     ROIC  \\\n",
       "0              0.0  ...        0.0     0,00%     0,00%       0.00    0,00%   \n",
       "1              0.0  ...        0.0  -208,15%  -362,66%       3.63  -13,50%   \n",
       "2              0.0  ...        0.0  -208,15%  -362,66%       3.63  -13,50%   \n",
       "3              0.0  ...        0.0     0,00%     0,00%       0.00    0,00%   \n",
       "4              0.0  ...        0.0     8,66%     5,65%       1.08   15,25%   \n",
       "\n",
       "       ROE Liq.2meses   Patrim. Líq  Dív.Brut/ Patrim.  Cresc. Rec.5a  \n",
       "0   -0,40%        0.0  1.083050e+09               0.00         20,67%  \n",
       "1  145,70%        0.0 -9.105000e+06              -6.52        -41,11%  \n",
       "2  145,70%        0.0 -9.105000e+06              -6.52        -41,11%  \n",
       "3   -2,08%        0.0  2.239900e+07               0.00         13,66%  \n",
       "4   19,93%        0.0  5.458030e+08               0.82         30,93%  \n",
       "\n",
       "[5 rows x 21 columns]"
      ]
     },
     "execution_count": 11,
     "metadata": {},
     "output_type": "execute_result"
    }
   ],
   "source": [
    "local_tabela = '/html/body/div[1]/div[2]/table'\n",
    "\n",
    "tabela = driver.find_element('xpath', local_tabela)\n",
    "\n",
    "html_tabela = tabela.get_attribute('outerHTML')\n",
    "\n",
    "tabela = pd.read_html(str(html_tabela), thousands = '.', decimal = ',')[0]\n",
    "\n",
    "tabela.head()"
   ]
  },
  {
   "cell_type": "code",
   "execution_count": 12,
   "id": "ae63618f",
   "metadata": {},
   "outputs": [
    {
     "data": {
      "application/vnd.microsoft.datawrangler.viewer.v0+json": {
       "columns": [
        {
         "name": "Papel",
         "rawType": "object",
         "type": "string"
        },
        {
         "name": "Cotação",
         "rawType": "float64",
         "type": "float"
        },
        {
         "name": "P/L",
         "rawType": "float64",
         "type": "float"
        },
        {
         "name": "EV/EBIT",
         "rawType": "float64",
         "type": "float"
        },
        {
         "name": "ROIC",
         "rawType": "object",
         "type": "string"
        },
        {
         "name": "Liq.2meses",
         "rawType": "float64",
         "type": "float"
        }
       ],
       "ref": "9042a223-c740-484e-94ed-735969ea71f7",
       "rows": [
        [
         "IVTT3",
         "0.0",
         "0.0",
         "0.0",
         "0,00%",
         "0.0"
        ],
        [
         "MNSA4",
         "0.47",
         "0.0",
         "0.0",
         "-13,50%",
         "0.0"
        ],
        [
         "MNSA3",
         "0.42",
         "0.0",
         "0.0",
         "-13,50%",
         "0.0"
        ],
        [
         "PORP4",
         "2.4",
         "0.0",
         "0.0",
         "0,00%",
         "0.0"
        ],
        [
         "POPR4",
         "10.17",
         "0.0",
         "0.0",
         "15,25%",
         "0.0"
        ]
       ],
       "shape": {
        "columns": 5,
        "rows": 5
       }
      },
      "text/html": [
       "<div>\n",
       "<style scoped>\n",
       "    .dataframe tbody tr th:only-of-type {\n",
       "        vertical-align: middle;\n",
       "    }\n",
       "\n",
       "    .dataframe tbody tr th {\n",
       "        vertical-align: top;\n",
       "    }\n",
       "\n",
       "    .dataframe thead th {\n",
       "        text-align: right;\n",
       "    }\n",
       "</style>\n",
       "<table border=\"1\" class=\"dataframe\">\n",
       "  <thead>\n",
       "    <tr style=\"text-align: right;\">\n",
       "      <th></th>\n",
       "      <th>Cotação</th>\n",
       "      <th>P/L</th>\n",
       "      <th>EV/EBIT</th>\n",
       "      <th>ROIC</th>\n",
       "      <th>Liq.2meses</th>\n",
       "    </tr>\n",
       "    <tr>\n",
       "      <th>Papel</th>\n",
       "      <th></th>\n",
       "      <th></th>\n",
       "      <th></th>\n",
       "      <th></th>\n",
       "      <th></th>\n",
       "    </tr>\n",
       "  </thead>\n",
       "  <tbody>\n",
       "    <tr>\n",
       "      <th>IVTT3</th>\n",
       "      <td>0.00</td>\n",
       "      <td>0.0</td>\n",
       "      <td>0.0</td>\n",
       "      <td>0,00%</td>\n",
       "      <td>0.0</td>\n",
       "    </tr>\n",
       "    <tr>\n",
       "      <th>MNSA4</th>\n",
       "      <td>0.47</td>\n",
       "      <td>0.0</td>\n",
       "      <td>0.0</td>\n",
       "      <td>-13,50%</td>\n",
       "      <td>0.0</td>\n",
       "    </tr>\n",
       "    <tr>\n",
       "      <th>MNSA3</th>\n",
       "      <td>0.42</td>\n",
       "      <td>0.0</td>\n",
       "      <td>0.0</td>\n",
       "      <td>-13,50%</td>\n",
       "      <td>0.0</td>\n",
       "    </tr>\n",
       "    <tr>\n",
       "      <th>PORP4</th>\n",
       "      <td>2.40</td>\n",
       "      <td>0.0</td>\n",
       "      <td>0.0</td>\n",
       "      <td>0,00%</td>\n",
       "      <td>0.0</td>\n",
       "    </tr>\n",
       "    <tr>\n",
       "      <th>POPR4</th>\n",
       "      <td>10.17</td>\n",
       "      <td>0.0</td>\n",
       "      <td>0.0</td>\n",
       "      <td>15,25%</td>\n",
       "      <td>0.0</td>\n",
       "    </tr>\n",
       "  </tbody>\n",
       "</table>\n",
       "</div>"
      ],
      "text/plain": [
       "       Cotação  P/L  EV/EBIT     ROIC  Liq.2meses\n",
       "Papel                                            \n",
       "IVTT3     0.00  0.0      0.0    0,00%         0.0\n",
       "MNSA4     0.47  0.0      0.0  -13,50%         0.0\n",
       "MNSA3     0.42  0.0      0.0  -13,50%         0.0\n",
       "PORP4     2.40  0.0      0.0    0,00%         0.0\n",
       "POPR4    10.17  0.0      0.0   15,25%         0.0"
      ]
     },
     "execution_count": 12,
     "metadata": {},
     "output_type": "execute_result"
    }
   ],
   "source": [
    "tabela = tabela.set_index('Papel')\n",
    "tabela = tabela[['Cotação', 'P/L', 'EV/EBIT', 'ROIC', 'Liq.2meses']]\n",
    "tabela.head()"
   ]
  },
  {
   "cell_type": "code",
   "execution_count": 13,
   "id": "52b20b5d",
   "metadata": {},
   "outputs": [
    {
     "data": {
      "application/vnd.microsoft.datawrangler.viewer.v0+json": {
       "columns": [
        {
         "name": "Papel",
         "rawType": "object",
         "type": "string"
        },
        {
         "name": "Cotação",
         "rawType": "float64",
         "type": "float"
        },
        {
         "name": "P/L",
         "rawType": "float64",
         "type": "float"
        },
        {
         "name": "EV/EBIT",
         "rawType": "float64",
         "type": "float"
        },
        {
         "name": "ROIC",
         "rawType": "float64",
         "type": "float"
        },
        {
         "name": "Liq.2meses",
         "rawType": "float64",
         "type": "float"
        }
       ],
       "ref": "1dc2ac08-611f-485e-b694-5cdb731f5997",
       "rows": [
        [
         "IVTT3",
         "0.0",
         "0.0",
         "0.0",
         "0.0",
         "0.0"
        ],
        [
         "MNSA4",
         "0.47",
         "0.0",
         "0.0",
         "-13.5",
         "0.0"
        ],
        [
         "MNSA3",
         "0.42",
         "0.0",
         "0.0",
         "-13.5",
         "0.0"
        ],
        [
         "PORP4",
         "2.4",
         "0.0",
         "0.0",
         "0.0",
         "0.0"
        ],
        [
         "POPR4",
         "10.17",
         "0.0",
         "0.0",
         "15.25",
         "0.0"
        ]
       ],
       "shape": {
        "columns": 5,
        "rows": 5
       }
      },
      "text/html": [
       "<div>\n",
       "<style scoped>\n",
       "    .dataframe tbody tr th:only-of-type {\n",
       "        vertical-align: middle;\n",
       "    }\n",
       "\n",
       "    .dataframe tbody tr th {\n",
       "        vertical-align: top;\n",
       "    }\n",
       "\n",
       "    .dataframe thead th {\n",
       "        text-align: right;\n",
       "    }\n",
       "</style>\n",
       "<table border=\"1\" class=\"dataframe\">\n",
       "  <thead>\n",
       "    <tr style=\"text-align: right;\">\n",
       "      <th></th>\n",
       "      <th>Cotação</th>\n",
       "      <th>P/L</th>\n",
       "      <th>EV/EBIT</th>\n",
       "      <th>ROIC</th>\n",
       "      <th>Liq.2meses</th>\n",
       "    </tr>\n",
       "    <tr>\n",
       "      <th>Papel</th>\n",
       "      <th></th>\n",
       "      <th></th>\n",
       "      <th></th>\n",
       "      <th></th>\n",
       "      <th></th>\n",
       "    </tr>\n",
       "  </thead>\n",
       "  <tbody>\n",
       "    <tr>\n",
       "      <th>IVTT3</th>\n",
       "      <td>0.00</td>\n",
       "      <td>0.0</td>\n",
       "      <td>0.0</td>\n",
       "      <td>0.00</td>\n",
       "      <td>0.0</td>\n",
       "    </tr>\n",
       "    <tr>\n",
       "      <th>MNSA4</th>\n",
       "      <td>0.47</td>\n",
       "      <td>0.0</td>\n",
       "      <td>0.0</td>\n",
       "      <td>-13.50</td>\n",
       "      <td>0.0</td>\n",
       "    </tr>\n",
       "    <tr>\n",
       "      <th>MNSA3</th>\n",
       "      <td>0.42</td>\n",
       "      <td>0.0</td>\n",
       "      <td>0.0</td>\n",
       "      <td>-13.50</td>\n",
       "      <td>0.0</td>\n",
       "    </tr>\n",
       "    <tr>\n",
       "      <th>PORP4</th>\n",
       "      <td>2.40</td>\n",
       "      <td>0.0</td>\n",
       "      <td>0.0</td>\n",
       "      <td>0.00</td>\n",
       "      <td>0.0</td>\n",
       "    </tr>\n",
       "    <tr>\n",
       "      <th>POPR4</th>\n",
       "      <td>10.17</td>\n",
       "      <td>0.0</td>\n",
       "      <td>0.0</td>\n",
       "      <td>15.25</td>\n",
       "      <td>0.0</td>\n",
       "    </tr>\n",
       "  </tbody>\n",
       "</table>\n",
       "</div>"
      ],
      "text/plain": [
       "       Cotação  P/L  EV/EBIT   ROIC  Liq.2meses\n",
       "Papel                                          \n",
       "IVTT3     0.00  0.0      0.0   0.00         0.0\n",
       "MNSA4     0.47  0.0      0.0 -13.50         0.0\n",
       "MNSA3     0.42  0.0      0.0 -13.50         0.0\n",
       "PORP4     2.40  0.0      0.0   0.00         0.0\n",
       "POPR4    10.17  0.0      0.0  15.25         0.0"
      ]
     },
     "execution_count": 13,
     "metadata": {},
     "output_type": "execute_result"
    }
   ],
   "source": [
    "tabela['ROIC'] = tabela['ROIC'].str.replace('%', '')\n",
    "tabela['ROIC'] = tabela['ROIC'].str.replace('.', '')\n",
    "tabela['ROIC'] = tabela['ROIC'].str.replace(',', '.')\n",
    "tabela['ROIC'] = tabela['ROIC'].astype(float)\n",
    "tabela.head()"
   ]
  },
  {
   "cell_type": "code",
   "execution_count": 14,
   "id": "d4ba871c",
   "metadata": {},
   "outputs": [
    {
     "data": {
      "application/vnd.microsoft.datawrangler.viewer.v0+json": {
       "columns": [
        {
         "name": "Papel",
         "rawType": "object",
         "type": "string"
        },
        {
         "name": "Cotação",
         "rawType": "float64",
         "type": "float"
        },
        {
         "name": "P/L",
         "rawType": "float64",
         "type": "float"
        },
        {
         "name": "EV/EBIT",
         "rawType": "float64",
         "type": "float"
        },
        {
         "name": "ROIC",
         "rawType": "float64",
         "type": "float"
        },
        {
         "name": "Liq.2meses",
         "rawType": "float64",
         "type": "float"
        }
       ],
       "ref": "0c36c1d7-02c5-45f1-9d70-3c38b714d722",
       "rows": [
        [
         "AZUL4",
         "0.66",
         "0.05",
         "7.48",
         "22.22",
         "33642000.0"
        ],
        [
         "LIGT3",
         "6.11",
         "0.94",
         "4.48",
         "9.21",
         "8607820.0"
        ],
        [
         "SYNE3",
         "6.5",
         "1.78",
         "2.96",
         "17.26",
         "3099670.0"
        ],
        [
         "JBSS3",
         "39.03",
         "3.11",
         "4.58",
         "14.7",
         "260464000.0"
        ],
        [
         "JHSF3",
         "5.03",
         "3.21",
         "10.98",
         "4.81",
         "14265400.0"
        ]
       ],
       "shape": {
        "columns": 5,
        "rows": 5
       }
      },
      "text/html": [
       "<div>\n",
       "<style scoped>\n",
       "    .dataframe tbody tr th:only-of-type {\n",
       "        vertical-align: middle;\n",
       "    }\n",
       "\n",
       "    .dataframe tbody tr th {\n",
       "        vertical-align: top;\n",
       "    }\n",
       "\n",
       "    .dataframe thead th {\n",
       "        text-align: right;\n",
       "    }\n",
       "</style>\n",
       "<table border=\"1\" class=\"dataframe\">\n",
       "  <thead>\n",
       "    <tr style=\"text-align: right;\">\n",
       "      <th></th>\n",
       "      <th>Cotação</th>\n",
       "      <th>P/L</th>\n",
       "      <th>EV/EBIT</th>\n",
       "      <th>ROIC</th>\n",
       "      <th>Liq.2meses</th>\n",
       "    </tr>\n",
       "    <tr>\n",
       "      <th>Papel</th>\n",
       "      <th></th>\n",
       "      <th></th>\n",
       "      <th></th>\n",
       "      <th></th>\n",
       "      <th></th>\n",
       "    </tr>\n",
       "  </thead>\n",
       "  <tbody>\n",
       "    <tr>\n",
       "      <th>AZUL4</th>\n",
       "      <td>0.66</td>\n",
       "      <td>0.05</td>\n",
       "      <td>7.48</td>\n",
       "      <td>22.22</td>\n",
       "      <td>33642000.0</td>\n",
       "    </tr>\n",
       "    <tr>\n",
       "      <th>LIGT3</th>\n",
       "      <td>6.11</td>\n",
       "      <td>0.94</td>\n",
       "      <td>4.48</td>\n",
       "      <td>9.21</td>\n",
       "      <td>8607820.0</td>\n",
       "    </tr>\n",
       "    <tr>\n",
       "      <th>SYNE3</th>\n",
       "      <td>6.50</td>\n",
       "      <td>1.78</td>\n",
       "      <td>2.96</td>\n",
       "      <td>17.26</td>\n",
       "      <td>3099670.0</td>\n",
       "    </tr>\n",
       "    <tr>\n",
       "      <th>JBSS3</th>\n",
       "      <td>39.03</td>\n",
       "      <td>3.11</td>\n",
       "      <td>4.58</td>\n",
       "      <td>14.70</td>\n",
       "      <td>260464000.0</td>\n",
       "    </tr>\n",
       "    <tr>\n",
       "      <th>JHSF3</th>\n",
       "      <td>5.03</td>\n",
       "      <td>3.21</td>\n",
       "      <td>10.98</td>\n",
       "      <td>4.81</td>\n",
       "      <td>14265400.0</td>\n",
       "    </tr>\n",
       "  </tbody>\n",
       "</table>\n",
       "</div>"
      ],
      "text/plain": [
       "       Cotação   P/L  EV/EBIT   ROIC   Liq.2meses\n",
       "Papel                                            \n",
       "AZUL4     0.66  0.05     7.48  22.22   33642000.0\n",
       "LIGT3     6.11  0.94     4.48   9.21    8607820.0\n",
       "SYNE3     6.50  1.78     2.96  17.26    3099670.0\n",
       "JBSS3    39.03  3.11     4.58  14.70  260464000.0\n",
       "JHSF3     5.03  3.21    10.98   4.81   14265400.0"
      ]
     },
     "execution_count": 14,
     "metadata": {},
     "output_type": "execute_result"
    }
   ],
   "source": [
    "tabela = tabela.loc[(tabela['Liq.2meses'] > 1000000) & (tabela['EV/EBIT'] > 0) & (tabela['ROIC'] > 0) & (tabela['P/L'] > 0)]\n",
    "\n",
    "tabela.head()"
   ]
  },
  {
   "cell_type": "code",
   "execution_count": 16,
   "id": "d4eb3730",
   "metadata": {},
   "outputs": [
    {
     "data": {
      "application/vnd.microsoft.datawrangler.viewer.v0+json": {
       "columns": [
        {
         "name": "Papel",
         "rawType": "object",
         "type": "string"
        },
        {
         "name": "Cotação",
         "rawType": "float64",
         "type": "float"
        },
        {
         "name": "P/L",
         "rawType": "float64",
         "type": "float"
        },
        {
         "name": "EV/EBIT",
         "rawType": "float64",
         "type": "float"
        },
        {
         "name": "ROIC",
         "rawType": "float64",
         "type": "float"
        },
        {
         "name": "Liq.2meses",
         "rawType": "float64",
         "type": "float"
        },
        {
         "name": "ranking_ev_ebit",
         "rawType": "float64",
         "type": "float"
        },
        {
         "name": "ranking_roic",
         "rawType": "float64",
         "type": "float"
        },
        {
         "name": "ranking_final",
         "rawType": "float64",
         "type": "float"
        }
       ],
       "ref": "cf61d9da-67f5-40c9-abdb-f98082a1bc79",
       "rows": [
        [
         "PSSA3",
         "51.6",
         "11.81",
         "0.79",
         "75.11",
         "108455000.0",
         "1.0",
         "1.0",
         "2.0"
        ],
        [
         "WIZC3",
         "7.2",
         "6.8",
         "1.71",
         "33.58",
         "3256510.0",
         "2.0",
         "6.0",
         "8.0"
        ],
        [
         "PLPL3",
         "13.25",
         "7.32",
         "3.88",
         "45.75",
         "13805400.0",
         "8.0",
         "2.0",
         "10.0"
        ],
        [
         "NATU3",
         "9.14",
         "13.67",
         "3.9",
         "24.75",
         "18416500.0",
         "9.0",
         "13.0",
         "22.0"
        ],
        [
         "PETR4",
         "31.35",
         "8.4",
         "3.47",
         "19.61",
         "1078980000.0",
         "6.0",
         "24.5",
         "30.5"
        ],
        [
         "PETR3",
         "34.08",
         "9.13",
         "3.64",
         "19.61",
         "351966000.0",
         "7.0",
         "24.5",
         "31.5"
        ],
        [
         "CMIN3",
         "5.33",
         "8.09",
         "4.93",
         "26.14",
         "31648000.0",
         "21.0",
         "11.0",
         "32.0"
        ],
        [
         "QUAL3",
         "1.65",
         "124.4",
         "2.55",
         "18.47",
         "3403260.0",
         "3.0",
         "29.0",
         "32.0"
        ],
        [
         "LEVE3",
         "28.18",
         "7.64",
         "5.51",
         "34.75",
         "7738680.0",
         "28.0",
         "5.0",
         "33.0"
        ],
        [
         "SYNE3",
         "6.5",
         "1.78",
         "2.96",
         "17.26",
         "3099670.0",
         "5.0",
         "31.0",
         "36.0"
        ],
        [
         "KEPL3",
         "7.13",
         "7.43",
         "5.15",
         "23.17",
         "9522020.0",
         "25.0",
         "15.0",
         "40.0"
        ],
        [
         "ASAI3",
         "9.63",
         "15.77",
         "4.54",
         "19.03",
         "137907000.0",
         "13.0",
         "27.0",
         "40.0"
        ],
        [
         "TGMA3",
         "34.01",
         "8.13",
         "5.97",
         "36.66",
         "9440510.0",
         "40.0",
         "4.0",
         "44.0"
        ],
        [
         "SBSP3",
         "110.09",
         "7.35",
         "5.6",
         "22.13",
         "290348000.0",
         "29.5",
         "17.0",
         "46.5"
        ],
        [
         "LREN3",
         "17.42",
         "14.44",
         "5.45",
         "20.56",
         "233333000.0",
         "27.0",
         "20.0",
         "47.0"
        ]
       ],
       "shape": {
        "columns": 8,
        "rows": 15
       }
      },
      "text/html": [
       "<div>\n",
       "<style scoped>\n",
       "    .dataframe tbody tr th:only-of-type {\n",
       "        vertical-align: middle;\n",
       "    }\n",
       "\n",
       "    .dataframe tbody tr th {\n",
       "        vertical-align: top;\n",
       "    }\n",
       "\n",
       "    .dataframe thead th {\n",
       "        text-align: right;\n",
       "    }\n",
       "</style>\n",
       "<table border=\"1\" class=\"dataframe\">\n",
       "  <thead>\n",
       "    <tr style=\"text-align: right;\">\n",
       "      <th></th>\n",
       "      <th>Cotação</th>\n",
       "      <th>P/L</th>\n",
       "      <th>EV/EBIT</th>\n",
       "      <th>ROIC</th>\n",
       "      <th>Liq.2meses</th>\n",
       "      <th>ranking_ev_ebit</th>\n",
       "      <th>ranking_roic</th>\n",
       "      <th>ranking_final</th>\n",
       "    </tr>\n",
       "    <tr>\n",
       "      <th>Papel</th>\n",
       "      <th></th>\n",
       "      <th></th>\n",
       "      <th></th>\n",
       "      <th></th>\n",
       "      <th></th>\n",
       "      <th></th>\n",
       "      <th></th>\n",
       "      <th></th>\n",
       "    </tr>\n",
       "  </thead>\n",
       "  <tbody>\n",
       "    <tr>\n",
       "      <th>PSSA3</th>\n",
       "      <td>51.60</td>\n",
       "      <td>11.81</td>\n",
       "      <td>0.79</td>\n",
       "      <td>75.11</td>\n",
       "      <td>1.084550e+08</td>\n",
       "      <td>1.0</td>\n",
       "      <td>1.0</td>\n",
       "      <td>2.0</td>\n",
       "    </tr>\n",
       "    <tr>\n",
       "      <th>WIZC3</th>\n",
       "      <td>7.20</td>\n",
       "      <td>6.80</td>\n",
       "      <td>1.71</td>\n",
       "      <td>33.58</td>\n",
       "      <td>3.256510e+06</td>\n",
       "      <td>2.0</td>\n",
       "      <td>6.0</td>\n",
       "      <td>8.0</td>\n",
       "    </tr>\n",
       "    <tr>\n",
       "      <th>PLPL3</th>\n",
       "      <td>13.25</td>\n",
       "      <td>7.32</td>\n",
       "      <td>3.88</td>\n",
       "      <td>45.75</td>\n",
       "      <td>1.380540e+07</td>\n",
       "      <td>8.0</td>\n",
       "      <td>2.0</td>\n",
       "      <td>10.0</td>\n",
       "    </tr>\n",
       "    <tr>\n",
       "      <th>NATU3</th>\n",
       "      <td>9.14</td>\n",
       "      <td>13.67</td>\n",
       "      <td>3.90</td>\n",
       "      <td>24.75</td>\n",
       "      <td>1.841650e+07</td>\n",
       "      <td>9.0</td>\n",
       "      <td>13.0</td>\n",
       "      <td>22.0</td>\n",
       "    </tr>\n",
       "    <tr>\n",
       "      <th>PETR4</th>\n",
       "      <td>31.35</td>\n",
       "      <td>8.40</td>\n",
       "      <td>3.47</td>\n",
       "      <td>19.61</td>\n",
       "      <td>1.078980e+09</td>\n",
       "      <td>6.0</td>\n",
       "      <td>24.5</td>\n",
       "      <td>30.5</td>\n",
       "    </tr>\n",
       "    <tr>\n",
       "      <th>PETR3</th>\n",
       "      <td>34.08</td>\n",
       "      <td>9.13</td>\n",
       "      <td>3.64</td>\n",
       "      <td>19.61</td>\n",
       "      <td>3.519660e+08</td>\n",
       "      <td>7.0</td>\n",
       "      <td>24.5</td>\n",
       "      <td>31.5</td>\n",
       "    </tr>\n",
       "    <tr>\n",
       "      <th>CMIN3</th>\n",
       "      <td>5.33</td>\n",
       "      <td>8.09</td>\n",
       "      <td>4.93</td>\n",
       "      <td>26.14</td>\n",
       "      <td>3.164800e+07</td>\n",
       "      <td>21.0</td>\n",
       "      <td>11.0</td>\n",
       "      <td>32.0</td>\n",
       "    </tr>\n",
       "    <tr>\n",
       "      <th>QUAL3</th>\n",
       "      <td>1.65</td>\n",
       "      <td>124.40</td>\n",
       "      <td>2.55</td>\n",
       "      <td>18.47</td>\n",
       "      <td>3.403260e+06</td>\n",
       "      <td>3.0</td>\n",
       "      <td>29.0</td>\n",
       "      <td>32.0</td>\n",
       "    </tr>\n",
       "    <tr>\n",
       "      <th>LEVE3</th>\n",
       "      <td>28.18</td>\n",
       "      <td>7.64</td>\n",
       "      <td>5.51</td>\n",
       "      <td>34.75</td>\n",
       "      <td>7.738680e+06</td>\n",
       "      <td>28.0</td>\n",
       "      <td>5.0</td>\n",
       "      <td>33.0</td>\n",
       "    </tr>\n",
       "    <tr>\n",
       "      <th>SYNE3</th>\n",
       "      <td>6.50</td>\n",
       "      <td>1.78</td>\n",
       "      <td>2.96</td>\n",
       "      <td>17.26</td>\n",
       "      <td>3.099670e+06</td>\n",
       "      <td>5.0</td>\n",
       "      <td>31.0</td>\n",
       "      <td>36.0</td>\n",
       "    </tr>\n",
       "    <tr>\n",
       "      <th>KEPL3</th>\n",
       "      <td>7.13</td>\n",
       "      <td>7.43</td>\n",
       "      <td>5.15</td>\n",
       "      <td>23.17</td>\n",
       "      <td>9.522020e+06</td>\n",
       "      <td>25.0</td>\n",
       "      <td>15.0</td>\n",
       "      <td>40.0</td>\n",
       "    </tr>\n",
       "    <tr>\n",
       "      <th>ASAI3</th>\n",
       "      <td>9.63</td>\n",
       "      <td>15.77</td>\n",
       "      <td>4.54</td>\n",
       "      <td>19.03</td>\n",
       "      <td>1.379070e+08</td>\n",
       "      <td>13.0</td>\n",
       "      <td>27.0</td>\n",
       "      <td>40.0</td>\n",
       "    </tr>\n",
       "    <tr>\n",
       "      <th>TGMA3</th>\n",
       "      <td>34.01</td>\n",
       "      <td>8.13</td>\n",
       "      <td>5.97</td>\n",
       "      <td>36.66</td>\n",
       "      <td>9.440510e+06</td>\n",
       "      <td>40.0</td>\n",
       "      <td>4.0</td>\n",
       "      <td>44.0</td>\n",
       "    </tr>\n",
       "    <tr>\n",
       "      <th>SBSP3</th>\n",
       "      <td>110.09</td>\n",
       "      <td>7.35</td>\n",
       "      <td>5.60</td>\n",
       "      <td>22.13</td>\n",
       "      <td>2.903480e+08</td>\n",
       "      <td>29.5</td>\n",
       "      <td>17.0</td>\n",
       "      <td>46.5</td>\n",
       "    </tr>\n",
       "    <tr>\n",
       "      <th>LREN3</th>\n",
       "      <td>17.42</td>\n",
       "      <td>14.44</td>\n",
       "      <td>5.45</td>\n",
       "      <td>20.56</td>\n",
       "      <td>2.333330e+08</td>\n",
       "      <td>27.0</td>\n",
       "      <td>20.0</td>\n",
       "      <td>47.0</td>\n",
       "    </tr>\n",
       "  </tbody>\n",
       "</table>\n",
       "</div>"
      ],
      "text/plain": [
       "       Cotação     P/L  EV/EBIT   ROIC    Liq.2meses  ranking_ev_ebit  \\\n",
       "Papel                                                                   \n",
       "PSSA3    51.60   11.81     0.79  75.11  1.084550e+08              1.0   \n",
       "WIZC3     7.20    6.80     1.71  33.58  3.256510e+06              2.0   \n",
       "PLPL3    13.25    7.32     3.88  45.75  1.380540e+07              8.0   \n",
       "NATU3     9.14   13.67     3.90  24.75  1.841650e+07              9.0   \n",
       "PETR4    31.35    8.40     3.47  19.61  1.078980e+09              6.0   \n",
       "PETR3    34.08    9.13     3.64  19.61  3.519660e+08              7.0   \n",
       "CMIN3     5.33    8.09     4.93  26.14  3.164800e+07             21.0   \n",
       "QUAL3     1.65  124.40     2.55  18.47  3.403260e+06              3.0   \n",
       "LEVE3    28.18    7.64     5.51  34.75  7.738680e+06             28.0   \n",
       "SYNE3     6.50    1.78     2.96  17.26  3.099670e+06              5.0   \n",
       "KEPL3     7.13    7.43     5.15  23.17  9.522020e+06             25.0   \n",
       "ASAI3     9.63   15.77     4.54  19.03  1.379070e+08             13.0   \n",
       "TGMA3    34.01    8.13     5.97  36.66  9.440510e+06             40.0   \n",
       "SBSP3   110.09    7.35     5.60  22.13  2.903480e+08             29.5   \n",
       "LREN3    17.42   14.44     5.45  20.56  2.333330e+08             27.0   \n",
       "\n",
       "       ranking_roic  ranking_final  \n",
       "Papel                               \n",
       "PSSA3           1.0            2.0  \n",
       "WIZC3           6.0            8.0  \n",
       "PLPL3           2.0           10.0  \n",
       "NATU3          13.0           22.0  \n",
       "PETR4          24.5           30.5  \n",
       "PETR3          24.5           31.5  \n",
       "CMIN3          11.0           32.0  \n",
       "QUAL3          29.0           32.0  \n",
       "LEVE3           5.0           33.0  \n",
       "SYNE3          31.0           36.0  \n",
       "KEPL3          15.0           40.0  \n",
       "ASAI3          27.0           40.0  \n",
       "TGMA3           4.0           44.0  \n",
       "SBSP3          17.0           46.5  \n",
       "LREN3          20.0           47.0  "
      ]
     },
     "execution_count": 16,
     "metadata": {},
     "output_type": "execute_result"
    }
   ],
   "source": [
    "# Ranking por ROIC e P/L\n",
    "\n",
    "tabela['ranking_roic'] = tabela['ROIC'].rank(ascending=False)\n",
    "tabela['ranking_ev_ebit'] = tabela['EV/EBIT'].rank(ascending=True)\n",
    "tabela['ranking_final'] = tabela['ranking_roic'] + tabela['ranking_ev_ebit']\n",
    "\n",
    "tabela.sort_values('ranking_final').head(15)"
   ]
  },
  {
   "cell_type": "code",
   "execution_count": 18,
   "id": "02adba1f",
   "metadata": {},
   "outputs": [
    {
     "data": {
      "application/vnd.microsoft.datawrangler.viewer.v0+json": {
       "columns": [
        {
         "name": "Papel",
         "rawType": "object",
         "type": "string"
        },
        {
         "name": "Cotação",
         "rawType": "float64",
         "type": "float"
        },
        {
         "name": "P/L",
         "rawType": "float64",
         "type": "float"
        },
        {
         "name": "EV/EBIT",
         "rawType": "float64",
         "type": "float"
        },
        {
         "name": "ROIC",
         "rawType": "float64",
         "type": "float"
        },
        {
         "name": "Liq.2meses",
         "rawType": "float64",
         "type": "float"
        },
        {
         "name": "ranking_ev_ebit",
         "rawType": "float64",
         "type": "float"
        },
        {
         "name": "ranking_roic",
         "rawType": "float64",
         "type": "float"
        },
        {
         "name": "ranking_final",
         "rawType": "float64",
         "type": "float"
        },
        {
         "name": "ranking_pl",
         "rawType": "float64",
         "type": "float"
        },
        {
         "name": "ranking_alternativo",
         "rawType": "float64",
         "type": "float"
        }
       ],
       "ref": "91ff6b5c-437c-4b57-a96b-797f34d5d97e",
       "rows": [
        [
         "AZUL4",
         "0.66",
         "0.05",
         "7.48",
         "22.22",
         "33642000.0",
         "65.0",
         "16.0",
         "81.0",
         "1.0",
         "17.0"
        ],
        [
         "SYNE3",
         "6.5",
         "1.78",
         "2.96",
         "17.26",
         "3099670.0",
         "5.0",
         "31.0",
         "36.0",
         "3.0",
         "34.0"
        ],
        [
         "WIZC3",
         "7.2",
         "6.8",
         "1.71",
         "33.58",
         "3256510.0",
         "2.0",
         "6.0",
         "8.0",
         "34.5",
         "40.5"
        ],
        [
         "PLPL3",
         "13.25",
         "7.32",
         "3.88",
         "45.75",
         "13805400.0",
         "8.0",
         "2.0",
         "10.0",
         "41.0",
         "43.0"
        ],
        [
         "JBSS3",
         "39.03",
         "3.11",
         "4.58",
         "14.7",
         "260464000.0",
         "15.0",
         "44.0",
         "59.0",
         "4.0",
         "48.0"
        ],
        [
         "VLID3",
         "22.11",
         "5.9",
         "4.65",
         "17.87",
         "7299900.0",
         "18.0",
         "30.0",
         "48.0",
         "22.0",
         "52.0"
        ],
        [
         "POMO3",
         "6.54",
         "6.56",
         "6.5",
         "20.54",
         "1393110.0",
         "53.0",
         "21.5",
         "74.5",
         "30.5",
         "52.0"
        ],
        [
         "LEVE3",
         "28.18",
         "7.64",
         "5.51",
         "34.75",
         "7738680.0",
         "28.0",
         "5.0",
         "33.0",
         "48.5",
         "53.5"
        ],
        [
         "VTRU3",
         "8.71",
         "3.53",
         "4.08",
         "14.15",
         "6194620.0",
         "10.0",
         "47.0",
         "57.0",
         "7.0",
         "54.0"
        ],
        [
         "SBSP3",
         "110.09",
         "7.35",
         "5.6",
         "22.13",
         "290348000.0",
         "29.5",
         "17.0",
         "46.5",
         "42.0",
         "59.0"
        ]
       ],
       "shape": {
        "columns": 10,
        "rows": 10
       }
      },
      "text/html": [
       "<div>\n",
       "<style scoped>\n",
       "    .dataframe tbody tr th:only-of-type {\n",
       "        vertical-align: middle;\n",
       "    }\n",
       "\n",
       "    .dataframe tbody tr th {\n",
       "        vertical-align: top;\n",
       "    }\n",
       "\n",
       "    .dataframe thead th {\n",
       "        text-align: right;\n",
       "    }\n",
       "</style>\n",
       "<table border=\"1\" class=\"dataframe\">\n",
       "  <thead>\n",
       "    <tr style=\"text-align: right;\">\n",
       "      <th></th>\n",
       "      <th>Cotação</th>\n",
       "      <th>P/L</th>\n",
       "      <th>EV/EBIT</th>\n",
       "      <th>ROIC</th>\n",
       "      <th>Liq.2meses</th>\n",
       "      <th>ranking_ev_ebit</th>\n",
       "      <th>ranking_roic</th>\n",
       "      <th>ranking_final</th>\n",
       "      <th>ranking_pl</th>\n",
       "      <th>ranking_alternativo</th>\n",
       "    </tr>\n",
       "    <tr>\n",
       "      <th>Papel</th>\n",
       "      <th></th>\n",
       "      <th></th>\n",
       "      <th></th>\n",
       "      <th></th>\n",
       "      <th></th>\n",
       "      <th></th>\n",
       "      <th></th>\n",
       "      <th></th>\n",
       "      <th></th>\n",
       "      <th></th>\n",
       "    </tr>\n",
       "  </thead>\n",
       "  <tbody>\n",
       "    <tr>\n",
       "      <th>AZUL4</th>\n",
       "      <td>0.66</td>\n",
       "      <td>0.05</td>\n",
       "      <td>7.48</td>\n",
       "      <td>22.22</td>\n",
       "      <td>33642000.0</td>\n",
       "      <td>65.0</td>\n",
       "      <td>16.0</td>\n",
       "      <td>81.0</td>\n",
       "      <td>1.0</td>\n",
       "      <td>17.0</td>\n",
       "    </tr>\n",
       "    <tr>\n",
       "      <th>SYNE3</th>\n",
       "      <td>6.50</td>\n",
       "      <td>1.78</td>\n",
       "      <td>2.96</td>\n",
       "      <td>17.26</td>\n",
       "      <td>3099670.0</td>\n",
       "      <td>5.0</td>\n",
       "      <td>31.0</td>\n",
       "      <td>36.0</td>\n",
       "      <td>3.0</td>\n",
       "      <td>34.0</td>\n",
       "    </tr>\n",
       "    <tr>\n",
       "      <th>WIZC3</th>\n",
       "      <td>7.20</td>\n",
       "      <td>6.80</td>\n",
       "      <td>1.71</td>\n",
       "      <td>33.58</td>\n",
       "      <td>3256510.0</td>\n",
       "      <td>2.0</td>\n",
       "      <td>6.0</td>\n",
       "      <td>8.0</td>\n",
       "      <td>34.5</td>\n",
       "      <td>40.5</td>\n",
       "    </tr>\n",
       "    <tr>\n",
       "      <th>PLPL3</th>\n",
       "      <td>13.25</td>\n",
       "      <td>7.32</td>\n",
       "      <td>3.88</td>\n",
       "      <td>45.75</td>\n",
       "      <td>13805400.0</td>\n",
       "      <td>8.0</td>\n",
       "      <td>2.0</td>\n",
       "      <td>10.0</td>\n",
       "      <td>41.0</td>\n",
       "      <td>43.0</td>\n",
       "    </tr>\n",
       "    <tr>\n",
       "      <th>JBSS3</th>\n",
       "      <td>39.03</td>\n",
       "      <td>3.11</td>\n",
       "      <td>4.58</td>\n",
       "      <td>14.70</td>\n",
       "      <td>260464000.0</td>\n",
       "      <td>15.0</td>\n",
       "      <td>44.0</td>\n",
       "      <td>59.0</td>\n",
       "      <td>4.0</td>\n",
       "      <td>48.0</td>\n",
       "    </tr>\n",
       "    <tr>\n",
       "      <th>VLID3</th>\n",
       "      <td>22.11</td>\n",
       "      <td>5.90</td>\n",
       "      <td>4.65</td>\n",
       "      <td>17.87</td>\n",
       "      <td>7299900.0</td>\n",
       "      <td>18.0</td>\n",
       "      <td>30.0</td>\n",
       "      <td>48.0</td>\n",
       "      <td>22.0</td>\n",
       "      <td>52.0</td>\n",
       "    </tr>\n",
       "    <tr>\n",
       "      <th>POMO3</th>\n",
       "      <td>6.54</td>\n",
       "      <td>6.56</td>\n",
       "      <td>6.50</td>\n",
       "      <td>20.54</td>\n",
       "      <td>1393110.0</td>\n",
       "      <td>53.0</td>\n",
       "      <td>21.5</td>\n",
       "      <td>74.5</td>\n",
       "      <td>30.5</td>\n",
       "      <td>52.0</td>\n",
       "    </tr>\n",
       "    <tr>\n",
       "      <th>LEVE3</th>\n",
       "      <td>28.18</td>\n",
       "      <td>7.64</td>\n",
       "      <td>5.51</td>\n",
       "      <td>34.75</td>\n",
       "      <td>7738680.0</td>\n",
       "      <td>28.0</td>\n",
       "      <td>5.0</td>\n",
       "      <td>33.0</td>\n",
       "      <td>48.5</td>\n",
       "      <td>53.5</td>\n",
       "    </tr>\n",
       "    <tr>\n",
       "      <th>VTRU3</th>\n",
       "      <td>8.71</td>\n",
       "      <td>3.53</td>\n",
       "      <td>4.08</td>\n",
       "      <td>14.15</td>\n",
       "      <td>6194620.0</td>\n",
       "      <td>10.0</td>\n",
       "      <td>47.0</td>\n",
       "      <td>57.0</td>\n",
       "      <td>7.0</td>\n",
       "      <td>54.0</td>\n",
       "    </tr>\n",
       "    <tr>\n",
       "      <th>SBSP3</th>\n",
       "      <td>110.09</td>\n",
       "      <td>7.35</td>\n",
       "      <td>5.60</td>\n",
       "      <td>22.13</td>\n",
       "      <td>290348000.0</td>\n",
       "      <td>29.5</td>\n",
       "      <td>17.0</td>\n",
       "      <td>46.5</td>\n",
       "      <td>42.0</td>\n",
       "      <td>59.0</td>\n",
       "    </tr>\n",
       "  </tbody>\n",
       "</table>\n",
       "</div>"
      ],
      "text/plain": [
       "       Cotação   P/L  EV/EBIT   ROIC   Liq.2meses  ranking_ev_ebit  \\\n",
       "Papel                                                                \n",
       "AZUL4     0.66  0.05     7.48  22.22   33642000.0             65.0   \n",
       "SYNE3     6.50  1.78     2.96  17.26    3099670.0              5.0   \n",
       "WIZC3     7.20  6.80     1.71  33.58    3256510.0              2.0   \n",
       "PLPL3    13.25  7.32     3.88  45.75   13805400.0              8.0   \n",
       "JBSS3    39.03  3.11     4.58  14.70  260464000.0             15.0   \n",
       "VLID3    22.11  5.90     4.65  17.87    7299900.0             18.0   \n",
       "POMO3     6.54  6.56     6.50  20.54    1393110.0             53.0   \n",
       "LEVE3    28.18  7.64     5.51  34.75    7738680.0             28.0   \n",
       "VTRU3     8.71  3.53     4.08  14.15    6194620.0             10.0   \n",
       "SBSP3   110.09  7.35     5.60  22.13  290348000.0             29.5   \n",
       "\n",
       "       ranking_roic  ranking_final  ranking_pl  ranking_alternativo  \n",
       "Papel                                                                \n",
       "AZUL4          16.0           81.0         1.0                 17.0  \n",
       "SYNE3          31.0           36.0         3.0                 34.0  \n",
       "WIZC3           6.0            8.0        34.5                 40.5  \n",
       "PLPL3           2.0           10.0        41.0                 43.0  \n",
       "JBSS3          44.0           59.0         4.0                 48.0  \n",
       "VLID3          30.0           48.0        22.0                 52.0  \n",
       "POMO3          21.5           74.5        30.5                 52.0  \n",
       "LEVE3           5.0           33.0        48.5                 53.5  \n",
       "VTRU3          47.0           57.0         7.0                 54.0  \n",
       "SBSP3          17.0           46.5        42.0                 59.0  "
      ]
     },
     "execution_count": 18,
     "metadata": {},
     "output_type": "execute_result"
    }
   ],
   "source": [
    "tabela['ranking_pl'] = tabela['P/L'].rank(ascending=True)\n",
    "tabela['ranking_alternativo'] = tabela['ranking_roic'] + tabela['ranking_pl']\n",
    "\n",
    "tabela.sort_values('ranking_alternativo')[0:10]"
   ]
  },
  {
   "cell_type": "markdown",
   "id": "f1a0206b",
   "metadata": {},
   "source": [
    "## Backtest Magic Formula"
   ]
  },
  {
   "cell_type": "markdown",
   "id": "ce1ef8ed",
   "metadata": {},
   "source": [
    "### Estratégia Magic Formula"
   ]
  },
  {
   "cell_type": "code",
   "execution_count": 20,
   "id": "aee0722e",
   "metadata": {},
   "outputs": [
    {
     "name": "stderr",
     "output_type": "stream",
     "text": [
      "[*********************100%***********************]  10 of 10 completed\n"
     ]
    },
    {
     "data": {
      "application/vnd.microsoft.datawrangler.viewer.v0+json": {
       "columns": [
        {
         "name": "Date",
         "rawType": "datetime64[ns]",
         "type": "datetime"
        },
        {
         "name": "CMIN3.SA",
         "rawType": "float64",
         "type": "float"
        },
        {
         "name": "LEVE3.SA",
         "rawType": "float64",
         "type": "float"
        },
        {
         "name": "NATU3.SA",
         "rawType": "float64",
         "type": "float"
        },
        {
         "name": "PETR3.SA",
         "rawType": "float64",
         "type": "float"
        },
        {
         "name": "PETR4.SA",
         "rawType": "float64",
         "type": "float"
        },
        {
         "name": "PLPL3.SA",
         "rawType": "float64",
         "type": "float"
        },
        {
         "name": "PSSA3.SA",
         "rawType": "float64",
         "type": "float"
        },
        {
         "name": "QUAL3.SA",
         "rawType": "float64",
         "type": "float"
        },
        {
         "name": "SYNE3.SA",
         "rawType": "float64",
         "type": "float"
        },
        {
         "name": "WIZC3.SA",
         "rawType": "float64",
         "type": "float"
        }
       ],
       "ref": "d07ca893-d9f6-4cca-8759-f61ce17a37db",
       "rows": [
        [
         "2025-01-02 00:00:00",
         "4.7993292808532715",
         "25.048725128173828",
         null,
         "38.5125732421875",
         "34.83296585083008",
         "8.230462074279785",
         "35.3670539855957",
         "1.4954696893692017",
         "4.866806983947754",
         "5.311537265777588"
        ],
        [
         "2025-01-03 00:00:00",
         "4.646969318389893",
         "24.736915588378906",
         null,
         "38.3795051574707",
         "34.4635124206543",
         "8.131082534790039",
         "33.95119857788086",
         "1.4954696893692017",
         "5.115677833557129",
         "4.956795692443848"
        ],
        [
         "2025-01-06 00:00:00",
         "4.770761966705322",
         "25.162109375",
         null,
         "38.018333435058594",
         "34.302467346191406",
         "8.293704986572266",
         "35.3182258605957",
         "1.4954696893692017",
         "4.968198299407959",
         "5.052671909332275"
        ],
        [
         "2025-01-07 00:00:00",
         "4.5874152183532715",
         "25.15266227722168",
         null,
         "39.082847595214844",
         "35.03190231323242",
         "8.356945991516113",
         "36.128684997558594",
         "1.545318603515625",
         "4.912893772125244",
         "5.100610256195068"
        ],
        [
         "2025-01-08 00:00:00",
         "4.453055381774902",
         "25.483367919921875",
         null,
         "38.71216583251953",
         "34.747711181640625",
         "8.031702995300293",
         "35.65022277832031",
         "1.5552884340286255",
         "4.673240661621094",
         "5.148548126220703"
        ]
       ],
       "shape": {
        "columns": 10,
        "rows": 5
       }
      },
      "text/html": [
       "<div>\n",
       "<style scoped>\n",
       "    .dataframe tbody tr th:only-of-type {\n",
       "        vertical-align: middle;\n",
       "    }\n",
       "\n",
       "    .dataframe tbody tr th {\n",
       "        vertical-align: top;\n",
       "    }\n",
       "\n",
       "    .dataframe thead th {\n",
       "        text-align: right;\n",
       "    }\n",
       "</style>\n",
       "<table border=\"1\" class=\"dataframe\">\n",
       "  <thead>\n",
       "    <tr style=\"text-align: right;\">\n",
       "      <th>Ticker</th>\n",
       "      <th>CMIN3.SA</th>\n",
       "      <th>LEVE3.SA</th>\n",
       "      <th>NATU3.SA</th>\n",
       "      <th>PETR3.SA</th>\n",
       "      <th>PETR4.SA</th>\n",
       "      <th>PLPL3.SA</th>\n",
       "      <th>PSSA3.SA</th>\n",
       "      <th>QUAL3.SA</th>\n",
       "      <th>SYNE3.SA</th>\n",
       "      <th>WIZC3.SA</th>\n",
       "    </tr>\n",
       "    <tr>\n",
       "      <th>Date</th>\n",
       "      <th></th>\n",
       "      <th></th>\n",
       "      <th></th>\n",
       "      <th></th>\n",
       "      <th></th>\n",
       "      <th></th>\n",
       "      <th></th>\n",
       "      <th></th>\n",
       "      <th></th>\n",
       "      <th></th>\n",
       "    </tr>\n",
       "  </thead>\n",
       "  <tbody>\n",
       "    <tr>\n",
       "      <th>2025-01-02</th>\n",
       "      <td>4.799329</td>\n",
       "      <td>25.048725</td>\n",
       "      <td>NaN</td>\n",
       "      <td>38.512573</td>\n",
       "      <td>34.832966</td>\n",
       "      <td>8.230462</td>\n",
       "      <td>35.367054</td>\n",
       "      <td>1.495470</td>\n",
       "      <td>4.866807</td>\n",
       "      <td>5.311537</td>\n",
       "    </tr>\n",
       "    <tr>\n",
       "      <th>2025-01-03</th>\n",
       "      <td>4.646969</td>\n",
       "      <td>24.736916</td>\n",
       "      <td>NaN</td>\n",
       "      <td>38.379505</td>\n",
       "      <td>34.463512</td>\n",
       "      <td>8.131083</td>\n",
       "      <td>33.951199</td>\n",
       "      <td>1.495470</td>\n",
       "      <td>5.115678</td>\n",
       "      <td>4.956796</td>\n",
       "    </tr>\n",
       "    <tr>\n",
       "      <th>2025-01-06</th>\n",
       "      <td>4.770762</td>\n",
       "      <td>25.162109</td>\n",
       "      <td>NaN</td>\n",
       "      <td>38.018333</td>\n",
       "      <td>34.302467</td>\n",
       "      <td>8.293705</td>\n",
       "      <td>35.318226</td>\n",
       "      <td>1.495470</td>\n",
       "      <td>4.968198</td>\n",
       "      <td>5.052672</td>\n",
       "    </tr>\n",
       "    <tr>\n",
       "      <th>2025-01-07</th>\n",
       "      <td>4.587415</td>\n",
       "      <td>25.152662</td>\n",
       "      <td>NaN</td>\n",
       "      <td>39.082848</td>\n",
       "      <td>35.031902</td>\n",
       "      <td>8.356946</td>\n",
       "      <td>36.128685</td>\n",
       "      <td>1.545319</td>\n",
       "      <td>4.912894</td>\n",
       "      <td>5.100610</td>\n",
       "    </tr>\n",
       "    <tr>\n",
       "      <th>2025-01-08</th>\n",
       "      <td>4.453055</td>\n",
       "      <td>25.483368</td>\n",
       "      <td>NaN</td>\n",
       "      <td>38.712166</td>\n",
       "      <td>34.747711</td>\n",
       "      <td>8.031703</td>\n",
       "      <td>35.650223</td>\n",
       "      <td>1.555288</td>\n",
       "      <td>4.673241</td>\n",
       "      <td>5.148548</td>\n",
       "    </tr>\n",
       "  </tbody>\n",
       "</table>\n",
       "</div>"
      ],
      "text/plain": [
       "Ticker      CMIN3.SA   LEVE3.SA  NATU3.SA   PETR3.SA   PETR4.SA  PLPL3.SA  \\\n",
       "Date                                                                        \n",
       "2025-01-02  4.799329  25.048725       NaN  38.512573  34.832966  8.230462   \n",
       "2025-01-03  4.646969  24.736916       NaN  38.379505  34.463512  8.131083   \n",
       "2025-01-06  4.770762  25.162109       NaN  38.018333  34.302467  8.293705   \n",
       "2025-01-07  4.587415  25.152662       NaN  39.082848  35.031902  8.356946   \n",
       "2025-01-08  4.453055  25.483368       NaN  38.712166  34.747711  8.031703   \n",
       "\n",
       "Ticker       PSSA3.SA  QUAL3.SA  SYNE3.SA  WIZC3.SA  \n",
       "Date                                                 \n",
       "2025-01-02  35.367054  1.495470  4.866807  5.311537  \n",
       "2025-01-03  33.951199  1.495470  5.115678  4.956796  \n",
       "2025-01-06  35.318226  1.495470  4.968198  5.052672  \n",
       "2025-01-07  36.128685  1.545319  4.912894  5.100610  \n",
       "2025-01-08  35.650223  1.555288  4.673241  5.148548  "
      ]
     },
     "execution_count": 20,
     "metadata": {},
     "output_type": "execute_result"
    }
   ],
   "source": [
    "estrategia_1 = tabela.sort_values('ranking_final')[0:10].index\n",
    "\n",
    "ativos = [x + '.SA' for x in estrategia_1]\n",
    "\n",
    "inicio = '2025-01-01'\n",
    "fim = date.today()\n",
    "\n",
    "carteira_1 = yf.download(tickers=ativos, start=inicio, end=fim)['Close']\n",
    "\n",
    "carteira_1.head()"
   ]
  },
  {
   "cell_type": "code",
   "execution_count": null,
   "id": "581ceda9",
   "metadata": {},
   "outputs": [
    {
     "data": {
      "text/plain": [
       "<Axes: xlabel='Date'>"
      ]
     },
     "execution_count": 23,
     "metadata": {},
     "output_type": "execute_result"
    },
    {
     "data": {
      "image/png": "[encoded data removed]",
      "text/plain": [
       "<Figure size 640x480 with 1 Axes>"
      ]
     },
     "metadata": {},
     "output_type": "display_data"
    }
   ],
   "source": [
    "# Retorno individual no período\n",
    "\n",
    "(carteira_1/carteira_1.iloc[0] - 1).plot()"
   ]
  },
  {
   "cell_type": "code",
   "execution_count": 24,
   "id": "a8ba7c8d",
   "metadata": {},
   "outputs": [
    {
     "data": {
      "text/plain": [
       "<Axes: xlabel='Date'>"
      ]
     },
     "execution_count": 24,
     "metadata": {},
     "output_type": "execute_result"
    },
    {
     "data": {
      "image/png": "[encoded data removed]",
      "text/plain": [
       "<Figure size 640x480 with 1 Axes>"
      ]
     },
     "metadata": {},
     "output_type": "display_data"
    }
   ],
   "source": [
    "# Retorno diários\n",
    "\n",
    "pesos = 1/len(ativos)\n",
    "\n",
    "retornos = carteira_1.pct_change()\n",
    "\n",
    "retorno_carteira = (retornos*pesos).sum(axis=1)\n",
    "\n",
    "retorno_carteira.plot()"
   ]
  },
  {
   "cell_type": "code",
   "execution_count": null,
   "id": "7c2ce767",
   "metadata": {},
   "outputs": [
    {
     "data": {
      "text/plain": [
       "<Axes: xlabel='Date'>"
      ]
     },
     "execution_count": 25,
     "metadata": {},
     "output_type": "execute_result"
    },
    {
     "data": {
      "image/png": "[encoded data removed]",
      "text/plain": [
       "<Figure size 640x480 with 1 Axes>"
      ]
     },
     "metadata": {},
     "output_type": "display_data"
    }
   ],
   "source": [
    "# Retorno Acumulado Carteira\n",
    "retorno_acum_carteira = (1 + retorno_carteira).cumprod() - 1\n",
    "\n",
    "retorno_acum_carteira.plot()"
   ]
  },
  {
   "cell_type": "markdown",
   "id": "e69a2220",
   "metadata": {},
   "source": [
    "### Estratégia Alternativa\n",
    "Usando P/L ao invés de EV/EBIT"
   ]
  },
  {
   "cell_type": "code",
   "execution_count": 30,
   "id": "43821987",
   "metadata": {},
   "outputs": [
    {
     "name": "stderr",
     "output_type": "stream",
     "text": [
      "[*********************100%***********************]  10 of 10 completed\n"
     ]
    },
    {
     "data": {
      "application/vnd.microsoft.datawrangler.viewer.v0+json": {
       "columns": [
        {
         "name": "Date",
         "rawType": "datetime64[ns]",
         "type": "datetime"
        },
        {
         "name": "AZUL4.SA",
         "rawType": "float64",
         "type": "float"
        },
        {
         "name": "JBSS3.SA",
         "rawType": "float64",
         "type": "float"
        },
        {
         "name": "LEVE3.SA",
         "rawType": "float64",
         "type": "float"
        },
        {
         "name": "PLPL3.SA",
         "rawType": "float64",
         "type": "float"
        },
        {
         "name": "POMO3.SA",
         "rawType": "float64",
         "type": "float"
        },
        {
         "name": "SBSP3.SA",
         "rawType": "float64",
         "type": "float"
        },
        {
         "name": "SYNE3.SA",
         "rawType": "float64",
         "type": "float"
        },
        {
         "name": "VLID3.SA",
         "rawType": "float64",
         "type": "float"
        },
        {
         "name": "VTRU3.SA",
         "rawType": "float64",
         "type": "float"
        },
        {
         "name": "WIZC3.SA",
         "rawType": "float64",
         "type": "float"
        }
       ],
       "ref": "c2ec4787-dfb4-4ab4-8bb1-507113e134a1",
       "rows": [
        [
         "2025-01-02 00:00:00",
         "3.640000104904175",
         "37.099998474121094",
         "25.048725128173828",
         "8.230462074279785",
         "5.513979911804199",
         "85.59813690185547",
         "4.866806983947754",
         "20.10142707824707",
         "6.391921043395996",
         "5.311537265777588"
        ],
        [
         "2025-01-03 00:00:00",
         "3.75",
         "36.33000183105469",
         "24.736915588378906",
         "8.131082534790039",
         "5.36265230178833",
         "84.08877563476562",
         "5.115677833557129",
         "23.37375259399414",
         "6.05288028717041",
         "4.956795692443848"
        ],
        [
         "2025-01-06 00:00:00",
         "4.300000190734863",
         "36.38999938964844",
         "25.162109375",
         "8.293704986572266",
         "5.3248209953308105",
         "85.21112060546875",
         "4.968198299407959",
         "22.83148193359375",
         "6.481667518615723",
         "5.052671909332275"
        ],
        [
         "2025-01-07 00:00:00",
         "4.199999809265137",
         "35.83000183105469",
         "25.15266227722168",
         "8.356945991516113",
         "5.4856061935424805",
         "86.3431396484375",
         "4.912893772125244",
         "21.877832412719727",
         "6.691075325012207",
         "5.100610256195068"
        ],
        [
         "2025-01-08 00:00:00",
         "4.210000038146973",
         "35.619998931884766",
         "25.483367919921875",
         "8.031702995300293",
         "5.258615493774414",
         "84.2726058959961",
         "4.673240661621094",
         "22.17701530456543",
         "6.322118759155273",
         "5.148548126220703"
        ]
       ],
       "shape": {
        "columns": 10,
        "rows": 5
       }
      },
      "text/html": [
       "<div>\n",
       "<style scoped>\n",
       "    .dataframe tbody tr th:only-of-type {\n",
       "        vertical-align: middle;\n",
       "    }\n",
       "\n",
       "    .dataframe tbody tr th {\n",
       "        vertical-align: top;\n",
       "    }\n",
       "\n",
       "    .dataframe thead th {\n",
       "        text-align: right;\n",
       "    }\n",
       "</style>\n",
       "<table border=\"1\" class=\"dataframe\">\n",
       "  <thead>\n",
       "    <tr style=\"text-align: right;\">\n",
       "      <th>Ticker</th>\n",
       "      <th>AZUL4.SA</th>\n",
       "      <th>JBSS3.SA</th>\n",
       "      <th>LEVE3.SA</th>\n",
       "      <th>PLPL3.SA</th>\n",
       "      <th>POMO3.SA</th>\n",
       "      <th>SBSP3.SA</th>\n",
       "      <th>SYNE3.SA</th>\n",
       "      <th>VLID3.SA</th>\n",
       "      <th>VTRU3.SA</th>\n",
       "      <th>WIZC3.SA</th>\n",
       "    </tr>\n",
       "    <tr>\n",
       "      <th>Date</th>\n",
       "      <th></th>\n",
       "      <th></th>\n",
       "      <th></th>\n",
       "      <th></th>\n",
       "      <th></th>\n",
       "      <th></th>\n",
       "      <th></th>\n",
       "      <th></th>\n",
       "      <th></th>\n",
       "      <th></th>\n",
       "    </tr>\n",
       "  </thead>\n",
       "  <tbody>\n",
       "    <tr>\n",
       "      <th>2025-01-02</th>\n",
       "      <td>3.64</td>\n",
       "      <td>37.099998</td>\n",
       "      <td>25.048725</td>\n",
       "      <td>8.230462</td>\n",
       "      <td>5.513980</td>\n",
       "      <td>85.598137</td>\n",
       "      <td>4.866807</td>\n",
       "      <td>20.101427</td>\n",
       "      <td>6.391921</td>\n",
       "      <td>5.311537</td>\n",
       "    </tr>\n",
       "    <tr>\n",
       "      <th>2025-01-03</th>\n",
       "      <td>3.75</td>\n",
       "      <td>36.330002</td>\n",
       "      <td>24.736916</td>\n",
       "      <td>8.131083</td>\n",
       "      <td>5.362652</td>\n",
       "      <td>84.088776</td>\n",
       "      <td>5.115678</td>\n",
       "      <td>23.373753</td>\n",
       "      <td>6.052880</td>\n",
       "      <td>4.956796</td>\n",
       "    </tr>\n",
       "    <tr>\n",
       "      <th>2025-01-06</th>\n",
       "      <td>4.30</td>\n",
       "      <td>36.389999</td>\n",
       "      <td>25.162109</td>\n",
       "      <td>8.293705</td>\n",
       "      <td>5.324821</td>\n",
       "      <td>85.211121</td>\n",
       "      <td>4.968198</td>\n",
       "      <td>22.831482</td>\n",
       "      <td>6.481668</td>\n",
       "      <td>5.052672</td>\n",
       "    </tr>\n",
       "    <tr>\n",
       "      <th>2025-01-07</th>\n",
       "      <td>4.20</td>\n",
       "      <td>35.830002</td>\n",
       "      <td>25.152662</td>\n",
       "      <td>8.356946</td>\n",
       "      <td>5.485606</td>\n",
       "      <td>86.343140</td>\n",
       "      <td>4.912894</td>\n",
       "      <td>21.877832</td>\n",
       "      <td>6.691075</td>\n",
       "      <td>5.100610</td>\n",
       "    </tr>\n",
       "    <tr>\n",
       "      <th>2025-01-08</th>\n",
       "      <td>4.21</td>\n",
       "      <td>35.619999</td>\n",
       "      <td>25.483368</td>\n",
       "      <td>8.031703</td>\n",
       "      <td>5.258615</td>\n",
       "      <td>84.272606</td>\n",
       "      <td>4.673241</td>\n",
       "      <td>22.177015</td>\n",
       "      <td>6.322119</td>\n",
       "      <td>5.148548</td>\n",
       "    </tr>\n",
       "  </tbody>\n",
       "</table>\n",
       "</div>"
      ],
      "text/plain": [
       "Ticker      AZUL4.SA   JBSS3.SA   LEVE3.SA  PLPL3.SA  POMO3.SA   SBSP3.SA  \\\n",
       "Date                                                                        \n",
       "2025-01-02      3.64  37.099998  25.048725  8.230462  5.513980  85.598137   \n",
       "2025-01-03      3.75  36.330002  24.736916  8.131083  5.362652  84.088776   \n",
       "2025-01-06      4.30  36.389999  25.162109  8.293705  5.324821  85.211121   \n",
       "2025-01-07      4.20  35.830002  25.152662  8.356946  5.485606  86.343140   \n",
       "2025-01-08      4.21  35.619999  25.483368  8.031703  5.258615  84.272606   \n",
       "\n",
       "Ticker      SYNE3.SA   VLID3.SA  VTRU3.SA  WIZC3.SA  \n",
       "Date                                                 \n",
       "2025-01-02  4.866807  20.101427  6.391921  5.311537  \n",
       "2025-01-03  5.115678  23.373753  6.052880  4.956796  \n",
       "2025-01-06  4.968198  22.831482  6.481668  5.052672  \n",
       "2025-01-07  4.912894  21.877832  6.691075  5.100610  \n",
       "2025-01-08  4.673241  22.177015  6.322119  5.148548  "
      ]
     },
     "execution_count": 30,
     "metadata": {},
     "output_type": "execute_result"
    }
   ],
   "source": [
    "estrategia_2 = tabela.sort_values('ranking_alternativo')[0:10].index\n",
    "\n",
    "ativos_2 = [x + '.SA' for x in estrategia_2]\n",
    "\n",
    "inicio = '2025-01-01'\n",
    "fim = date.today()\n",
    "\n",
    "carteira_2 = yf.download(tickers=ativos_2, start=inicio, end=fim)['Close']\n",
    "\n",
    "carteira_2.head()"
   ]
  },
  {
   "cell_type": "code",
   "execution_count": 31,
   "id": "e3608503",
   "metadata": {},
   "outputs": [
    {
     "data": {
      "text/plain": [
       "<Axes: xlabel='Date'>"
      ]
     },
     "execution_count": 31,
     "metadata": {},
     "output_type": "execute_result"
    },
    {
     "data": {
      "image/png": "[encoded data removed]",
      "text/plain": [
       "<Figure size 640x480 with 1 Axes>"
      ]
     },
     "metadata": {},
     "output_type": "display_data"
    }
   ],
   "source": [
    "# Retorno individual no período\n",
    "\n",
    "(carteira_2/carteira_2.iloc[0] - 1).plot()"
   ]
  },
  {
   "cell_type": "code",
   "execution_count": 33,
   "id": "180fad64",
   "metadata": {},
   "outputs": [
    {
     "data": {
      "text/plain": [
       "<Axes: xlabel='Date'>"
      ]
     },
     "execution_count": 33,
     "metadata": {},
     "output_type": "execute_result"
    },
    {
     "data": {
      "image/png": "[encoded data removed]",
      "text/plain": [
       "<Figure size 640x480 with 1 Axes>"
      ]
     },
     "metadata": {},
     "output_type": "display_data"
    }
   ],
   "source": [
    "# Retorno Acumulado Carteira\n",
    "\n",
    "pesos = 1/len(ativos_2)\n",
    "\n",
    "retornos_2 = carteira_2.pct_change()\n",
    "\n",
    "retorno_carteira_2 = (retornos_2*pesos).sum(axis=1)\n",
    "\n",
    "retorno_acum_carteira_2 = (1 + retorno_carteira_2).cumprod() - 1\n",
    "\n",
    "retorno_acum_carteira_2.plot()"
   ]
  },
  {
   "cell_type": "markdown",
   "id": "64494423",
   "metadata": {},
   "source": [
    "## Comparativo IBOVESPA"
   ]
  },
  {
   "cell_type": "code",
   "execution_count": 36,
   "id": "66f095b1",
   "metadata": {},
   "outputs": [
    {
     "name": "stderr",
     "output_type": "stream",
     "text": [
      "[*********************100%***********************]  1 of 1 completed"
     ]
    },
    {
     "name": "stderr",
     "output_type": "stream",
     "text": [
      "\n"
     ]
    },
    {
     "data": {
      "text/plain": [
       "<Axes: xlabel='Date'>"
      ]
     },
     "execution_count": 36,
     "metadata": {},
     "output_type": "execute_result"
    },
    {
     "data": {
      "image/png": "[encoded data removed]",
      "text/plain": [
       "<Figure size 640x480 with 1 Axes>"
      ]
     },
     "metadata": {},
     "output_type": "display_data"
    }
   ],
   "source": [
    "ibov = yf.download('^BVSP', start=inicio, end=fim)['Close']\n",
    "\n",
    "retorno_ibov = ibov.pct_change()\n",
    "\n",
    "retorno_acumulado_ibov = (1 + retorno_ibov).cumprod() - 1\n",
    "\n",
    "retorno_portfolio = pd.DataFrame()\n",
    "retorno_portfolio['Magic Formula'] = retorno_acum_carteira\n",
    "retorno_portfolio['Estrategia Alternativa'] = retorno_acum_carteira_2\n",
    "retorno_portfolio['IBOV'] = retorno_acumulado_ibov\n",
    "\n",
    "retorno_portfolio.plot()"
   ]
  },
  {
   "cell_type": "code",
   "execution_count": 37,
   "id": "e91e45ca",
   "metadata": {},
   "outputs": [
    {
     "data": {
      "application/vnd.microsoft.datawrangler.viewer.v0+json": {
       "columns": [
        {
         "name": "Date",
         "rawType": "datetime64[ns]",
         "type": "datetime"
        },
        {
         "name": "Magic Formula",
         "rawType": "float64",
         "type": "float"
        },
        {
         "name": "Estrategia Alternativa",
         "rawType": "float64",
         "type": "float"
        },
        {
         "name": "IBOV",
         "rawType": "float64",
         "type": "float"
        }
       ],
       "ref": "5ab0410d-4733-428c-bdfb-1b9f8c9133c1",
       "rows": [
        [
         "2025-07-15 00:00:00",
         "0.12952728073608166",
         "0.2364333137939827",
         "0.12591050988553487"
        ],
        [
         "2025-07-16 00:00:00",
         "0.11598580463880093",
         "0.22370530810016698",
         "0.128083246618105"
        ],
        [
         "2025-07-17 00:00:00",
         "0.11413689436580743",
         "0.21380446155381527",
         "0.12853277835587829"
        ],
        [
         "2025-07-18 00:00:00",
         "0.10049097063879242",
         "0.1955286883514762",
         "0.11036004162330815"
        ],
        [
         "2025-07-21 00:00:00",
         "0.1065947208097564",
         "0.20405282756794363",
         "0.11689490114464007"
        ]
       ],
       "shape": {
        "columns": 3,
        "rows": 5
       }
      },
      "text/html": [
       "<div>\n",
       "<style scoped>\n",
       "    .dataframe tbody tr th:only-of-type {\n",
       "        vertical-align: middle;\n",
       "    }\n",
       "\n",
       "    .dataframe tbody tr th {\n",
       "        vertical-align: top;\n",
       "    }\n",
       "\n",
       "    .dataframe thead th {\n",
       "        text-align: right;\n",
       "    }\n",
       "</style>\n",
       "<table border=\"1\" class=\"dataframe\">\n",
       "  <thead>\n",
       "    <tr style=\"text-align: right;\">\n",
       "      <th></th>\n",
       "      <th>Magic Formula</th>\n",
       "      <th>Estrategia Alternativa</th>\n",
       "      <th>IBOV</th>\n",
       "    </tr>\n",
       "    <tr>\n",
       "      <th>Date</th>\n",
       "      <th></th>\n",
       "      <th></th>\n",
       "      <th></th>\n",
       "    </tr>\n",
       "  </thead>\n",
       "  <tbody>\n",
       "    <tr>\n",
       "      <th>2025-07-15</th>\n",
       "      <td>0.129527</td>\n",
       "      <td>0.236433</td>\n",
       "      <td>0.125911</td>\n",
       "    </tr>\n",
       "    <tr>\n",
       "      <th>2025-07-16</th>\n",
       "      <td>0.115986</td>\n",
       "      <td>0.223705</td>\n",
       "      <td>0.128083</td>\n",
       "    </tr>\n",
       "    <tr>\n",
       "      <th>2025-07-17</th>\n",
       "      <td>0.114137</td>\n",
       "      <td>0.213804</td>\n",
       "      <td>0.128533</td>\n",
       "    </tr>\n",
       "    <tr>\n",
       "      <th>2025-07-18</th>\n",
       "      <td>0.100491</td>\n",
       "      <td>0.195529</td>\n",
       "      <td>0.110360</td>\n",
       "    </tr>\n",
       "    <tr>\n",
       "      <th>2025-07-21</th>\n",
       "      <td>0.106595</td>\n",
       "      <td>0.204053</td>\n",
       "      <td>0.116895</td>\n",
       "    </tr>\n",
       "  </tbody>\n",
       "</table>\n",
       "</div>"
      ],
      "text/plain": [
       "            Magic Formula  Estrategia Alternativa      IBOV\n",
       "Date                                                       \n",
       "2025-07-15       0.129527                0.236433  0.125911\n",
       "2025-07-16       0.115986                0.223705  0.128083\n",
       "2025-07-17       0.114137                0.213804  0.128533\n",
       "2025-07-18       0.100491                0.195529  0.110360\n",
       "2025-07-21       0.106595                0.204053  0.116895"
      ]
     },
     "execution_count": 37,
     "metadata": {},
     "output_type": "execute_result"
    }
   ],
   "source": [
    "retorno_portfolio.tail()"
   ]
  }
 ],
 "metadata": {
  "kernelspec": {
   "display_name": "Python 3",
   "language": "python",
   "name": "python3"
  },
  "language_info": {
   "codemirror_mode": {
    "name": "ipython",
    "version": 3
   },
   "file_extension": ".py",
   "mimetype": "text/x-python",
   "name": "python",
   "nbconvert_exporter": "python",
   "pygments_lexer": "ipython3",
   "version": "3.11.9"
  }
 },
 "nbformat": 4,
 "nbformat_minor": 5
}
