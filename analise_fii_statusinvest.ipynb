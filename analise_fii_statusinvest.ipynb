{
 "cells": [
  {
   "cell_type": "markdown",
   "id": "fb55264e",
   "metadata": {},
   "source": [
    "# Analisando FIIs e Indicadores"
   ]
  },
  {
   "cell_type": "markdown",
   "id": "5ddc3654",
   "metadata": {},
   "source": [
    "## Coletando dados\n",
    "fonte: https://statusinvest.com.br/fundos-imobiliarios/busca-avancada"
   ]
  },
  {
   "cell_type": "code",
   "execution_count": 22,
   "id": "7255f68e",
   "metadata": {},
   "outputs": [],
   "source": [
    "import pandas as pd\n",
    "import matplotlib.pyplot as plt\n",
    "import seaborn as sns\n",
    "import mplcyberpunk\n",
    "import warnings\n",
    "import yfinance as yf\n",
    "warnings.filterwarnings(\"ignore\")\n",
    "\n",
    "plt.style.use(\"cyberpunk\")"
   ]
  },
  {
   "cell_type": "code",
   "execution_count": 2,
   "id": "20eaddfa",
   "metadata": {},
   "outputs": [
    {
     "data": {
      "application/vnd.microsoft.datawrangler.viewer.v0+json": {
       "columns": [
        {
         "name": "index",
         "rawType": "int64",
         "type": "integer"
        },
        {
         "name": "TICKER",
         "rawType": "object",
         "type": "string"
        },
        {
         "name": "PRECO",
         "rawType": "object",
         "type": "string"
        },
        {
         "name": "ULTIMO DIVIDENDO",
         "rawType": "object",
         "type": "string"
        },
        {
         "name": "DY",
         "rawType": "object",
         "type": "string"
        },
        {
         "name": "VALOR PATRIMONIAL COTA",
         "rawType": "object",
         "type": "string"
        },
        {
         "name": "P/VP",
         "rawType": "object",
         "type": "string"
        },
        {
         "name": "LIQUIDEZ MEDIA DIARIA",
         "rawType": "object",
         "type": "string"
        },
        {
         "name": "PERCENTUAL EM CAIXA",
         "rawType": "object",
         "type": "string"
        },
        {
         "name": "CAGR DIVIDENDOS 3 ANOS",
         "rawType": "object",
         "type": "unknown"
        },
        {
         "name": " CAGR VALOR CORA 3 ANOS",
         "rawType": "object",
         "type": "unknown"
        },
        {
         "name": "PATRIMONIO",
         "rawType": "object",
         "type": "string"
        },
        {
         "name": "N COTISTAS",
         "rawType": "object",
         "type": "string"
        },
        {
         "name": "GESTAO",
         "rawType": "object",
         "type": "string"
        },
        {
         "name": " N COTAS",
         "rawType": "object",
         "type": "string"
        }
       ],
       "ref": "8371a334-ebd7-4e44-a334-dfd3c486ec8e",
       "rows": [
        [
         "0",
         "ABCP11",
         "88,09",
         "1,150000",
         "8,96",
         "106,80",
         "0,82",
         "72.317,48",
         "1,89",
         "7,85",
         "23,37",
         "502.949.501,57",
         "14.903,00",
         "Passiva",
         "4.709.082,00"
        ],
        [
         "1",
         "AFHI11",
         "91,89",
         "1,090000",
         "12,71",
         "94,76",
         "0,97",
         "787.285,52",
         "1,81",
         "-3,18",
         "10,91",
         "431.693.502,56",
         "39.578,00",
         "Ativa",
         "4.555.618,00"
        ],
        [
         "2",
         "AIEC11",
         "46,22",
         "0,320000",
         "13,89",
         "77,57",
         "0,60",
         "241.787,33",
         "5,72",
         "-10,68",
         "-1,75",
         "374.250.889,38",
         "16.334,00",
         "Ativa",
         "4.824.987,00"
        ],
        [
         "3",
         "AJFI11",
         "7,19",
         "0,060000",
         "11,35",
         "12,15",
         "0,59",
         "192.215,43",
         "0,77",
         null,
         null,
         "384.210.693,68",
         "13.014,00",
         "Ativa",
         "31.625.978,00"
        ],
        [
         "4",
         "ALMI11",
         "595,00",
         "5,256487",
         "6,71",
         "2.108,52",
         "0,28",
         "9.845,44",
         "4,35",
         null,
         "-9,16",
         "234.419.016,12",
         "1.971,00",
         "Passiva",
         "111.177,00"
        ]
       ],
       "shape": {
        "columns": 14,
        "rows": 5
       }
      },
      "text/html": [
       "<div>\n",
       "<style scoped>\n",
       "    .dataframe tbody tr th:only-of-type {\n",
       "        vertical-align: middle;\n",
       "    }\n",
       "\n",
       "    .dataframe tbody tr th {\n",
       "        vertical-align: top;\n",
       "    }\n",
       "\n",
       "    .dataframe thead th {\n",
       "        text-align: right;\n",
       "    }\n",
       "</style>\n",
       "<table border=\"1\" class=\"dataframe\">\n",
       "  <thead>\n",
       "    <tr style=\"text-align: right;\">\n",
       "      <th></th>\n",
       "      <th>TICKER</th>\n",
       "      <th>PRECO</th>\n",
       "      <th>ULTIMO DIVIDENDO</th>\n",
       "      <th>DY</th>\n",
       "      <th>VALOR PATRIMONIAL COTA</th>\n",
       "      <th>P/VP</th>\n",
       "      <th>LIQUIDEZ MEDIA DIARIA</th>\n",
       "      <th>PERCENTUAL EM CAIXA</th>\n",
       "      <th>CAGR DIVIDENDOS 3 ANOS</th>\n",
       "      <th>CAGR VALOR CORA 3 ANOS</th>\n",
       "      <th>PATRIMONIO</th>\n",
       "      <th>N COTISTAS</th>\n",
       "      <th>GESTAO</th>\n",
       "      <th>N COTAS</th>\n",
       "    </tr>\n",
       "  </thead>\n",
       "  <tbody>\n",
       "    <tr>\n",
       "      <th>0</th>\n",
       "      <td>ABCP11</td>\n",
       "      <td>88,09</td>\n",
       "      <td>1,150000</td>\n",
       "      <td>8,96</td>\n",
       "      <td>106,80</td>\n",
       "      <td>0,82</td>\n",
       "      <td>72.317,48</td>\n",
       "      <td>1,89</td>\n",
       "      <td>7,85</td>\n",
       "      <td>23,37</td>\n",
       "      <td>502.949.501,57</td>\n",
       "      <td>14.903,00</td>\n",
       "      <td>Passiva</td>\n",
       "      <td>4.709.082,00</td>\n",
       "    </tr>\n",
       "    <tr>\n",
       "      <th>1</th>\n",
       "      <td>AFHI11</td>\n",
       "      <td>91,89</td>\n",
       "      <td>1,090000</td>\n",
       "      <td>12,71</td>\n",
       "      <td>94,76</td>\n",
       "      <td>0,97</td>\n",
       "      <td>787.285,52</td>\n",
       "      <td>1,81</td>\n",
       "      <td>-3,18</td>\n",
       "      <td>10,91</td>\n",
       "      <td>431.693.502,56</td>\n",
       "      <td>39.578,00</td>\n",
       "      <td>Ativa</td>\n",
       "      <td>4.555.618,00</td>\n",
       "    </tr>\n",
       "    <tr>\n",
       "      <th>2</th>\n",
       "      <td>AIEC11</td>\n",
       "      <td>46,22</td>\n",
       "      <td>0,320000</td>\n",
       "      <td>13,89</td>\n",
       "      <td>77,57</td>\n",
       "      <td>0,60</td>\n",
       "      <td>241.787,33</td>\n",
       "      <td>5,72</td>\n",
       "      <td>-10,68</td>\n",
       "      <td>-1,75</td>\n",
       "      <td>374.250.889,38</td>\n",
       "      <td>16.334,00</td>\n",
       "      <td>Ativa</td>\n",
       "      <td>4.824.987,00</td>\n",
       "    </tr>\n",
       "    <tr>\n",
       "      <th>3</th>\n",
       "      <td>AJFI11</td>\n",
       "      <td>7,19</td>\n",
       "      <td>0,060000</td>\n",
       "      <td>11,35</td>\n",
       "      <td>12,15</td>\n",
       "      <td>0,59</td>\n",
       "      <td>192.215,43</td>\n",
       "      <td>0,77</td>\n",
       "      <td>NaN</td>\n",
       "      <td>NaN</td>\n",
       "      <td>384.210.693,68</td>\n",
       "      <td>13.014,00</td>\n",
       "      <td>Ativa</td>\n",
       "      <td>31.625.978,00</td>\n",
       "    </tr>\n",
       "    <tr>\n",
       "      <th>4</th>\n",
       "      <td>ALMI11</td>\n",
       "      <td>595,00</td>\n",
       "      <td>5,256487</td>\n",
       "      <td>6,71</td>\n",
       "      <td>2.108,52</td>\n",
       "      <td>0,28</td>\n",
       "      <td>9.845,44</td>\n",
       "      <td>4,35</td>\n",
       "      <td>NaN</td>\n",
       "      <td>-9,16</td>\n",
       "      <td>234.419.016,12</td>\n",
       "      <td>1.971,00</td>\n",
       "      <td>Passiva</td>\n",
       "      <td>111.177,00</td>\n",
       "    </tr>\n",
       "  </tbody>\n",
       "</table>\n",
       "</div>"
      ],
      "text/plain": [
       "   TICKER   PRECO ULTIMO DIVIDENDO     DY VALOR PATRIMONIAL COTA  P/VP  \\\n",
       "0  ABCP11   88,09         1,150000   8,96                 106,80  0,82   \n",
       "1  AFHI11   91,89         1,090000  12,71                  94,76  0,97   \n",
       "2  AIEC11   46,22         0,320000  13,89                  77,57  0,60   \n",
       "3  AJFI11    7,19         0,060000  11,35                  12,15  0,59   \n",
       "4  ALMI11  595,00         5,256487   6,71               2.108,52  0,28   \n",
       "\n",
       "  LIQUIDEZ MEDIA DIARIA PERCENTUAL EM CAIXA CAGR DIVIDENDOS 3 ANOS  \\\n",
       "0             72.317,48                1,89                   7,85   \n",
       "1            787.285,52                1,81                  -3,18   \n",
       "2            241.787,33                5,72                 -10,68   \n",
       "3            192.215,43                0,77                    NaN   \n",
       "4              9.845,44                4,35                    NaN   \n",
       "\n",
       "   CAGR VALOR CORA 3 ANOS      PATRIMONIO N COTISTAS   GESTAO        N COTAS  \n",
       "0                   23,37  502.949.501,57  14.903,00  Passiva   4.709.082,00  \n",
       "1                   10,91  431.693.502,56  39.578,00    Ativa   4.555.618,00  \n",
       "2                   -1,75  374.250.889,38  16.334,00    Ativa   4.824.987,00  \n",
       "3                     NaN  384.210.693,68  13.014,00    Ativa  31.625.978,00  \n",
       "4                   -9,16  234.419.016,12   1.971,00  Passiva     111.177,00  "
      ]
     },
     "execution_count": 2,
     "metadata": {},
     "output_type": "execute_result"
    }
   ],
   "source": [
    "df = pd.read_csv('statusinvest-busca-avancada_21_07_2025.csv', sep=';')\n",
    "\n",
    "df.head()"
   ]
  },
  {
   "cell_type": "code",
   "execution_count": 3,
   "id": "2f4d1240",
   "metadata": {},
   "outputs": [
    {
     "name": "stdout",
     "output_type": "stream",
     "text": [
      "<class 'pandas.core.frame.DataFrame'>\n",
      "RangeIndex: 593 entries, 0 to 592\n",
      "Data columns (total 14 columns):\n",
      " #   Column                   Non-Null Count  Dtype \n",
      "---  ------                   --------------  ----- \n",
      " 0   TICKER                   593 non-null    string\n",
      " 1   PRECO                    593 non-null    string\n",
      " 2   ULTIMO DIVIDENDO         488 non-null    string\n",
      " 3   DY                       593 non-null    string\n",
      " 4   VALOR PATRIMONIAL COTA   588 non-null    string\n",
      " 5   P/VP                     480 non-null    string\n",
      " 6   LIQUIDEZ MEDIA DIARIA    433 non-null    string\n",
      " 7   PERCENTUAL EM CAIXA      576 non-null    string\n",
      " 8   CAGR DIVIDENDOS 3 ANOS   289 non-null    string\n",
      " 9    CAGR VALOR CORA 3 ANOS  295 non-null    string\n",
      " 10  PATRIMONIO               588 non-null    string\n",
      " 11  N COTISTAS               588 non-null    string\n",
      " 12  GESTAO                   475 non-null    string\n",
      " 13   N COTAS                 593 non-null    string\n",
      "dtypes: string(14)\n",
      "memory usage: 65.0 KB\n"
     ]
    }
   ],
   "source": [
    "df = df.astype('string')\n",
    "df.info()"
   ]
  },
  {
   "cell_type": "code",
   "execution_count": 4,
   "id": "4461827b",
   "metadata": {},
   "outputs": [
    {
     "data": {
      "application/vnd.microsoft.datawrangler.viewer.v0+json": {
       "columns": [
        {
         "name": "index",
         "rawType": "int64",
         "type": "integer"
        },
        {
         "name": "TICKER",
         "rawType": "string",
         "type": "string"
        },
        {
         "name": "PRECO",
         "rawType": "float64",
         "type": "float"
        },
        {
         "name": "ULTIMO DIVIDENDO",
         "rawType": "float64",
         "type": "float"
        },
        {
         "name": "DY",
         "rawType": "float64",
         "type": "float"
        },
        {
         "name": "VALOR PATRIMONIAL COTA",
         "rawType": "float64",
         "type": "float"
        },
        {
         "name": "P/VP",
         "rawType": "float64",
         "type": "float"
        },
        {
         "name": "LIQUIDEZ MEDIA DIARIA",
         "rawType": "float64",
         "type": "float"
        },
        {
         "name": "PERCENTUAL EM CAIXA",
         "rawType": "float64",
         "type": "float"
        },
        {
         "name": "CAGR DIVIDENDOS 3 ANOS",
         "rawType": "float64",
         "type": "float"
        },
        {
         "name": " CAGR VALOR CORA 3 ANOS",
         "rawType": "float64",
         "type": "float"
        },
        {
         "name": "PATRIMONIO",
         "rawType": "float64",
         "type": "float"
        },
        {
         "name": "N COTISTAS",
         "rawType": "float64",
         "type": "float"
        },
        {
         "name": "GESTAO",
         "rawType": "string",
         "type": "string"
        },
        {
         "name": " N COTAS",
         "rawType": "float64",
         "type": "float"
        }
       ],
       "ref": "f5876818-6322-416f-a323-51a7581de3d6",
       "rows": [
        [
         "0",
         "ABCP11",
         "88.09",
         "1.15",
         "8.96",
         "106.8",
         "0.82",
         "72317.48",
         "1.89",
         "7.85",
         "23.37",
         "502949501.57",
         "14903.0",
         "Passiva",
         "4709082.0"
        ],
        [
         "1",
         "AFHI11",
         "91.89",
         "1.09",
         "12.71",
         "94.76",
         "0.97",
         "787285.52",
         "1.81",
         "-3.18",
         "10.91",
         "431693502.56",
         "39578.0",
         "Ativa",
         "4555618.0"
        ],
        [
         "2",
         "AIEC11",
         "46.22",
         "0.32",
         "13.89",
         "77.57",
         "0.6",
         "241787.33",
         "5.72",
         "-10.68",
         "-1.75",
         "374250889.38",
         "16334.0",
         "Ativa",
         "4824987.0"
        ],
        [
         "6",
         "ALZM11",
         "6.32",
         "0.08",
         "7.99",
         "7.46",
         "0.85",
         "0.0",
         "3.8",
         "-6.9",
         "-58.23",
         "113203496.22",
         "12195.0",
         "Ativa",
         "15180540.0"
        ],
        [
         "7",
         "ALZR11",
         "10.02",
         "0.0937",
         "9.6",
         "10.79",
         "0.93",
         "1199797.57",
         "11.35",
         "-12.61",
         "6.78",
         "1319772054.67",
         "164422.0",
         "Ativa",
         "122266250.0"
        ]
       ],
       "shape": {
        "columns": 14,
        "rows": 5
       }
      },
      "text/html": [
       "<div>\n",
       "<style scoped>\n",
       "    .dataframe tbody tr th:only-of-type {\n",
       "        vertical-align: middle;\n",
       "    }\n",
       "\n",
       "    .dataframe tbody tr th {\n",
       "        vertical-align: top;\n",
       "    }\n",
       "\n",
       "    .dataframe thead th {\n",
       "        text-align: right;\n",
       "    }\n",
       "</style>\n",
       "<table border=\"1\" class=\"dataframe\">\n",
       "  <thead>\n",
       "    <tr style=\"text-align: right;\">\n",
       "      <th></th>\n",
       "      <th>TICKER</th>\n",
       "      <th>PRECO</th>\n",
       "      <th>ULTIMO DIVIDENDO</th>\n",
       "      <th>DY</th>\n",
       "      <th>VALOR PATRIMONIAL COTA</th>\n",
       "      <th>P/VP</th>\n",
       "      <th>LIQUIDEZ MEDIA DIARIA</th>\n",
       "      <th>PERCENTUAL EM CAIXA</th>\n",
       "      <th>CAGR DIVIDENDOS 3 ANOS</th>\n",
       "      <th>CAGR VALOR CORA 3 ANOS</th>\n",
       "      <th>PATRIMONIO</th>\n",
       "      <th>N COTISTAS</th>\n",
       "      <th>GESTAO</th>\n",
       "      <th>N COTAS</th>\n",
       "    </tr>\n",
       "  </thead>\n",
       "  <tbody>\n",
       "    <tr>\n",
       "      <th>0</th>\n",
       "      <td>ABCP11</td>\n",
       "      <td>88.09</td>\n",
       "      <td>1.1500</td>\n",
       "      <td>8.96</td>\n",
       "      <td>106.80</td>\n",
       "      <td>0.82</td>\n",
       "      <td>72317.48</td>\n",
       "      <td>1.89</td>\n",
       "      <td>7.85</td>\n",
       "      <td>23.37</td>\n",
       "      <td>5.029495e+08</td>\n",
       "      <td>14903.0</td>\n",
       "      <td>Passiva</td>\n",
       "      <td>4709082.0</td>\n",
       "    </tr>\n",
       "    <tr>\n",
       "      <th>1</th>\n",
       "      <td>AFHI11</td>\n",
       "      <td>91.89</td>\n",
       "      <td>1.0900</td>\n",
       "      <td>12.71</td>\n",
       "      <td>94.76</td>\n",
       "      <td>0.97</td>\n",
       "      <td>787285.52</td>\n",
       "      <td>1.81</td>\n",
       "      <td>-3.18</td>\n",
       "      <td>10.91</td>\n",
       "      <td>4.316935e+08</td>\n",
       "      <td>39578.0</td>\n",
       "      <td>Ativa</td>\n",
       "      <td>4555618.0</td>\n",
       "    </tr>\n",
       "    <tr>\n",
       "      <th>2</th>\n",
       "      <td>AIEC11</td>\n",
       "      <td>46.22</td>\n",
       "      <td>0.3200</td>\n",
       "      <td>13.89</td>\n",
       "      <td>77.57</td>\n",
       "      <td>0.60</td>\n",
       "      <td>241787.33</td>\n",
       "      <td>5.72</td>\n",
       "      <td>-10.68</td>\n",
       "      <td>-1.75</td>\n",
       "      <td>3.742509e+08</td>\n",
       "      <td>16334.0</td>\n",
       "      <td>Ativa</td>\n",
       "      <td>4824987.0</td>\n",
       "    </tr>\n",
       "    <tr>\n",
       "      <th>6</th>\n",
       "      <td>ALZM11</td>\n",
       "      <td>6.32</td>\n",
       "      <td>0.0800</td>\n",
       "      <td>7.99</td>\n",
       "      <td>7.46</td>\n",
       "      <td>0.85</td>\n",
       "      <td>0.00</td>\n",
       "      <td>3.80</td>\n",
       "      <td>-6.90</td>\n",
       "      <td>-58.23</td>\n",
       "      <td>1.132035e+08</td>\n",
       "      <td>12195.0</td>\n",
       "      <td>Ativa</td>\n",
       "      <td>15180540.0</td>\n",
       "    </tr>\n",
       "    <tr>\n",
       "      <th>7</th>\n",
       "      <td>ALZR11</td>\n",
       "      <td>10.02</td>\n",
       "      <td>0.0937</td>\n",
       "      <td>9.60</td>\n",
       "      <td>10.79</td>\n",
       "      <td>0.93</td>\n",
       "      <td>1199797.57</td>\n",
       "      <td>11.35</td>\n",
       "      <td>-12.61</td>\n",
       "      <td>6.78</td>\n",
       "      <td>1.319772e+09</td>\n",
       "      <td>164422.0</td>\n",
       "      <td>Ativa</td>\n",
       "      <td>122266250.0</td>\n",
       "    </tr>\n",
       "  </tbody>\n",
       "</table>\n",
       "</div>"
      ],
      "text/plain": [
       "   TICKER  PRECO  ULTIMO DIVIDENDO     DY  VALOR PATRIMONIAL COTA  P/VP  \\\n",
       "0  ABCP11  88.09            1.1500   8.96                  106.80  0.82   \n",
       "1  AFHI11  91.89            1.0900  12.71                   94.76  0.97   \n",
       "2  AIEC11  46.22            0.3200  13.89                   77.57  0.60   \n",
       "6  ALZM11   6.32            0.0800   7.99                    7.46  0.85   \n",
       "7  ALZR11  10.02            0.0937   9.60                   10.79  0.93   \n",
       "\n",
       "   LIQUIDEZ MEDIA DIARIA  PERCENTUAL EM CAIXA  CAGR DIVIDENDOS 3 ANOS  \\\n",
       "0               72317.48                 1.89                    7.85   \n",
       "1              787285.52                 1.81                   -3.18   \n",
       "2              241787.33                 5.72                  -10.68   \n",
       "6                   0.00                 3.80                   -6.90   \n",
       "7             1199797.57                11.35                  -12.61   \n",
       "\n",
       "    CAGR VALOR CORA 3 ANOS    PATRIMONIO  N COTISTAS   GESTAO      N COTAS  \n",
       "0                    23.37  5.029495e+08     14903.0  Passiva    4709082.0  \n",
       "1                    10.91  4.316935e+08     39578.0    Ativa    4555618.0  \n",
       "2                    -1.75  3.742509e+08     16334.0    Ativa    4824987.0  \n",
       "6                   -58.23  1.132035e+08     12195.0    Ativa   15180540.0  \n",
       "7                     6.78  1.319772e+09    164422.0    Ativa  122266250.0  "
      ]
     },
     "execution_count": 4,
     "metadata": {},
     "output_type": "execute_result"
    }
   ],
   "source": [
    "cols = list(df.columns)\n",
    "\n",
    "df[cols] = df[cols].apply(lambda x: x.str.replace('.','', regex=False))\n",
    "df[cols] = df[cols].apply(lambda x: x.str.replace(',','.', regex=False))\n",
    "\n",
    "cols.remove('TICKER')\n",
    "cols.remove('GESTAO')\n",
    "\n",
    "df[cols] = df[cols].astype(float)\n",
    "\n",
    "df.dropna(inplace=True)\n",
    "\n",
    "df.head()"
   ]
  },
  {
   "cell_type": "code",
   "execution_count": 46,
   "id": "e7ba511d",
   "metadata": {},
   "outputs": [
    {
     "data": {
      "application/vnd.microsoft.datawrangler.viewer.v0+json": {
       "columns": [
        {
         "name": "index",
         "rawType": "int64",
         "type": "integer"
        },
        {
         "name": "TICKER",
         "rawType": "object",
         "type": "string"
        },
        {
         "name": "ACAO",
         "rawType": "object",
         "type": "string"
        },
        {
         "name": "TIPO",
         "rawType": "object",
         "type": "string"
        },
        {
         "name": "QTD_TEORICA",
         "rawType": "object",
         "type": "string"
        },
        {
         "name": "PART_PERC",
         "rawType": "object",
         "type": "string"
        }
       ],
       "ref": "cd76afa7-56b6-4db3-8e34-7188a56a2b24",
       "rows": [
        [
         "112",
         "WHGR11",
         "FII WHG REAL",
         "CI",
         "30.912.379",
         "0,196"
        ],
        [
         "113",
         "XPCI11",
         "FII XP CRED",
         "CI",
         "8.701.552",
         "0,516"
        ],
        [
         "114",
         "XPLG11",
         "FII XP LOG",
         "CI",
         "31.175.931",
         "2,244"
        ],
        [
         "115",
         "XPML11",
         "FII XP MALLS",
         "CI  ER",
         "56.720.787",
         "4,173"
        ],
        [
         "116",
         "XPSF11",
         "FII XP SELEC",
         "CI",
         "43.302.140",
         "0,189"
        ]
       ],
       "shape": {
        "columns": 5,
        "rows": 5
       }
      },
      "text/html": [
       "<div>\n",
       "<style scoped>\n",
       "    .dataframe tbody tr th:only-of-type {\n",
       "        vertical-align: middle;\n",
       "    }\n",
       "\n",
       "    .dataframe tbody tr th {\n",
       "        vertical-align: top;\n",
       "    }\n",
       "\n",
       "    .dataframe thead th {\n",
       "        text-align: right;\n",
       "    }\n",
       "</style>\n",
       "<table border=\"1\" class=\"dataframe\">\n",
       "  <thead>\n",
       "    <tr style=\"text-align: right;\">\n",
       "      <th></th>\n",
       "      <th>TICKER</th>\n",
       "      <th>ACAO</th>\n",
       "      <th>TIPO</th>\n",
       "      <th>QTD_TEORICA</th>\n",
       "      <th>PART_PERC</th>\n",
       "    </tr>\n",
       "  </thead>\n",
       "  <tbody>\n",
       "    <tr>\n",
       "      <th>112</th>\n",
       "      <td>WHGR11</td>\n",
       "      <td>FII WHG REAL</td>\n",
       "      <td>CI</td>\n",
       "      <td>30.912.379</td>\n",
       "      <td>0,196</td>\n",
       "    </tr>\n",
       "    <tr>\n",
       "      <th>113</th>\n",
       "      <td>XPCI11</td>\n",
       "      <td>FII XP CRED</td>\n",
       "      <td>CI</td>\n",
       "      <td>8.701.552</td>\n",
       "      <td>0,516</td>\n",
       "    </tr>\n",
       "    <tr>\n",
       "      <th>114</th>\n",
       "      <td>XPLG11</td>\n",
       "      <td>FII XP LOG</td>\n",
       "      <td>CI</td>\n",
       "      <td>31.175.931</td>\n",
       "      <td>2,244</td>\n",
       "    </tr>\n",
       "    <tr>\n",
       "      <th>115</th>\n",
       "      <td>XPML11</td>\n",
       "      <td>FII XP MALLS</td>\n",
       "      <td>CI  ER</td>\n",
       "      <td>56.720.787</td>\n",
       "      <td>4,173</td>\n",
       "    </tr>\n",
       "    <tr>\n",
       "      <th>116</th>\n",
       "      <td>XPSF11</td>\n",
       "      <td>FII XP SELEC</td>\n",
       "      <td>CI</td>\n",
       "      <td>43.302.140</td>\n",
       "      <td>0,189</td>\n",
       "    </tr>\n",
       "  </tbody>\n",
       "</table>\n",
       "</div>"
      ],
      "text/plain": [
       "     TICKER          ACAO    TIPO QTD_TEORICA PART_PERC\n",
       "112  WHGR11  FII WHG REAL      CI  30.912.379     0,196\n",
       "113  XPCI11   FII XP CRED      CI   8.701.552     0,516\n",
       "114  XPLG11    FII XP LOG      CI  31.175.931     2,244\n",
       "115  XPML11  FII XP MALLS  CI  ER  56.720.787     4,173\n",
       "116  XPSF11  FII XP SELEC      CI  43.302.140     0,189"
      ]
     },
     "execution_count": 46,
     "metadata": {},
     "output_type": "execute_result"
    }
   ],
   "source": [
    "ifix = pd.read_csv('IFIXDia_21-07-25.csv',sep=';',skiprows=1,encoding='iso-8859-1',index_col=False)[:-2]\n",
    "\n",
    "ifix.columns = ['TICKER','ACAO','TIPO','QTD_TEORICA','PART_PERC']\n",
    "\n",
    "ifix.tail()"
   ]
  },
  {
   "cell_type": "code",
   "execution_count": 47,
   "id": "dcc7c128",
   "metadata": {},
   "outputs": [
    {
     "name": "stdout",
     "output_type": "stream",
     "text": [
      "<class 'pandas.core.frame.DataFrame'>\n",
      "RangeIndex: 117 entries, 0 to 116\n",
      "Data columns (total 5 columns):\n",
      " #   Column       Non-Null Count  Dtype \n",
      "---  ------       --------------  ----- \n",
      " 0   TICKER       117 non-null    object\n",
      " 1   ACAO         117 non-null    object\n",
      " 2   TIPO         117 non-null    object\n",
      " 3   QTD_TEORICA  117 non-null    object\n",
      " 4   PART_PERC    117 non-null    object\n",
      "dtypes: object(5)\n",
      "memory usage: 4.7+ KB\n"
     ]
    }
   ],
   "source": [
    "ifix.info()"
   ]
  },
  {
   "cell_type": "code",
   "execution_count": 48,
   "id": "c52f96f0",
   "metadata": {},
   "outputs": [
    {
     "data": {
      "application/vnd.microsoft.datawrangler.viewer.v0+json": {
       "columns": [
        {
         "name": "index",
         "rawType": "int64",
         "type": "integer"
        },
        {
         "name": "TICKER",
         "rawType": "object",
         "type": "string"
        },
        {
         "name": "PRECO",
         "rawType": "float64",
         "type": "float"
        },
        {
         "name": "ULTIMO DIVIDENDO",
         "rawType": "float64",
         "type": "float"
        },
        {
         "name": "DY",
         "rawType": "float64",
         "type": "float"
        },
        {
         "name": "P/VP",
         "rawType": "float64",
         "type": "float"
        },
        {
         "name": "LIQUIDEZ MEDIA DIARIA",
         "rawType": "float64",
         "type": "float"
        },
        {
         "name": "PATRIMONIO",
         "rawType": "float64",
         "type": "float"
        },
        {
         "name": " N COTAS",
         "rawType": "float64",
         "type": "float"
        }
       ],
       "ref": "22d6568d-38f5-4454-b50a-2c69563a7a07",
       "rows": [
        [
         "0",
         "AFHI11",
         "91.89",
         "1.09",
         "12.71",
         "0.97",
         "787285.52",
         "431693502.56",
         "4555618.0"
        ],
        [
         "1",
         "AIEC11",
         "46.22",
         "0.32",
         "13.89",
         "0.6",
         "241787.33",
         "374250889.38",
         "4824987.0"
        ],
        [
         "2",
         "ALZR11",
         "10.02",
         "0.0937",
         "9.6",
         "0.93",
         "1199797.57",
         "1319772054.67",
         "122266250.0"
        ],
        [
         "3",
         "ARRI11",
         "6.87",
         "0.09",
         "16.01",
         "0.81",
         "191147.76",
         "175649111.2",
         "20726973.0"
        ],
        [
         "4",
         "BARI11",
         "78.85",
         "1.05",
         "13.56",
         "0.86",
         "745463.48",
         "422774839.54",
         "4634191.0"
        ],
        [
         "5",
         "BCIA11",
         "84.98",
         "0.84",
         "12.1",
         "0.85",
         "344503.38",
         "369809574.96",
         "3719038.0"
        ],
        [
         "6",
         "BCRI11",
         "63.65",
         "0.85",
         "15.18",
         "0.74",
         "393173.52",
         "535990598.86",
         "6257873.0"
        ],
        [
         "7",
         "BLMG11",
         "37.66",
         "0.35",
         "10.89",
         "0.53",
         "247771.14",
         "333106992.36",
         "4674548.0"
        ],
        [
         "8",
         "BPML11",
         "79.8",
         "0.92",
         "18.37",
         "0.61",
         "638566.62",
         "969090219.17",
         "7441745.0"
        ],
        [
         "9",
         "BRCO11",
         "110.08",
         "1.05",
         "9.65",
         "0.93",
         "2074591.14",
         "1874839675.06",
         "15905133.0"
        ],
        [
         "10",
         "BRCR11",
         "41.9",
         "0.41",
         "13.48",
         "0.49",
         "885022.62",
         "2263415655.42",
         "26638202.0"
        ],
        [
         "11",
         "BTAL11",
         "79.81",
         "0.9",
         "12.86",
         "0.72",
         "377934.14",
         "666533561.32",
         "5982736.0"
        ],
        [
         "12",
         "BTCI11",
         "9.18",
         "0.1",
         "12.23",
         "0.9",
         "1227340.14",
         "1010388844.93",
         "99521172.0"
        ],
        [
         "13",
         "BTLG11",
         "99.8",
         "0.7801",
         "9.45",
         "0.96",
         "5013911.81",
         "4506950051.66",
         "43249151.0"
        ],
        [
         "14",
         "CACR11",
         "96.92",
         "1.45",
         "16.59",
         "1.01",
         "1063173.57",
         "463551963.41",
         "4836324.0"
        ],
        [
         "15",
         "CVBI11",
         "84.21",
         "1.05",
         "13.97",
         "0.91",
         "1761497.67",
         "1014208936.99",
         "11010228.0"
        ],
        [
         "16",
         "CYCR11",
         "8.77",
         "0.116",
         "13.99",
         "0.93",
         "395861.57",
         "344402011.5",
         "36549445.0"
        ],
        [
         "17",
         "DEVA11",
         "33.09",
         "0.46",
         "16.02",
         "0.34",
         "520307.0",
         "1364551185.73",
         "14044908.0"
        ],
        [
         "18",
         "FATN11",
         "78.52",
         "0.8",
         "12.61",
         "0.8",
         "1498361.29",
         "454398531.66",
         "4611767.0"
        ],
        [
         "19",
         "GARE11",
         "8.82",
         "0.083",
         "11.77",
         "0.98",
         "3922982.43",
         "1327190841.9",
         "147458223.0"
        ],
        [
         "20",
         "GGRC11",
         "9.85",
         "0.105",
         "11.95",
         "0.88",
         "3413814.62",
         "1705208177.61",
         "152455666.0"
        ],
        [
         "21",
         "GTWR11",
         "76.12",
         "0.87",
         "12.93",
         "0.76",
         "455871.62",
         "1197424074.9",
         "12000000.0"
        ],
        [
         "22",
         "HABT11",
         "81.01",
         "1.15",
         "15.49",
         "0.86",
         "690976.05",
         "765536712.75",
         "8126783.0"
        ],
        [
         "23",
         "HCTR11",
         "23.45",
         "0.3759",
         "17.55",
         "0.22",
         "599526.0",
         "2307509700.09",
         "22084202.0"
        ],
        [
         "24",
         "HFOF11",
         "5.79",
         "0.056",
         "11.95",
         "0.79",
         "1368107.95",
         "1697927927.41",
         "230460000.0"
        ],
        [
         "25",
         "HGBS11",
         "19.12",
         "0.16",
         "10.04",
         "0.88",
         "1555708.81",
         "2790289688.28",
         "129133010.0"
        ],
        [
         "26",
         "HGCR11",
         "94.41",
         "1.05",
         "12.71",
         "0.97",
         "2413476.0",
         "1505630495.93",
         "15418106.0"
        ],
        [
         "27",
         "HGFF11",
         "65.67",
         "0.68",
         "13.6",
         "0.8",
         "431760.24",
         "234290424.18",
         "2863597.0"
        ],
        [
         "28",
         "HGLG11",
         "154.94",
         "1.1",
         "8.52",
         "0.95",
         "4299180.81",
         "5498583897.35",
         "33787575.0"
        ],
        [
         "30",
         "HGRE11",
         "114.88",
         "2.55",
         "9.99",
         "0.74",
         "1170262.05",
         "1840540878.33",
         "11817767.0"
        ],
        [
         "31",
         "HGRU11",
         "124.0",
         "1.55",
         "9.92",
         "0.97",
         "2370987.67",
         "2968593925.25",
         "23238024.0"
        ],
        [
         "32",
         "HSAF11",
         "79.14",
         "0.95",
         "13.77",
         "0.89",
         "228600.62",
         "223613939.1",
         "2526360.0"
        ],
        [
         "33",
         "HSLG11",
         "81.14",
         "0.65",
         "10.28",
         "0.73",
         "350424.24",
         "1398230000.23",
         "12660067.0"
        ],
        [
         "34",
         "HSML11",
         "80.81",
         "0.65",
         "10.77",
         "0.77",
         "1768382.05",
         "2182644730.91",
         "20808572.0"
        ],
        [
         "35",
         "HTMX11",
         "143.51",
         "1.5",
         "16.13",
         "0.99",
         "344647.1",
         "418606197.51",
         "2888094.0"
        ],
        [
         "36",
         "IRDM11",
         "60.8",
         "0.84",
         "15.54",
         "0.73",
         "3429530.67",
         "3018082901.63",
         "36433827.0"
        ],
        [
         "37",
         "JSAF11",
         "7.61",
         "0.091",
         "14.47",
         "0.84",
         "1138219.95",
         "699102470.95",
         "77523290.0"
        ],
        [
         "38",
         "JSRE11",
         "64.65",
         "0.48",
         "8.91",
         "0.63",
         "1284528.19",
         "2117039977.37",
         "20767328.0"
        ],
        [
         "39",
         "KCRE11",
         "8.79",
         "0.11",
         "13.54",
         "0.92",
         "278527.71",
         "344467744.56",
         "36000000.0"
        ],
        [
         "40",
         "KFOF11",
         "80.27",
         "0.75",
         "11.21",
         "0.91",
         "550617.9",
         "621816542.79",
         "7014565.0"
        ],
        [
         "41",
         "KISU11",
         "6.87",
         "0.07",
         "12.05",
         "0.85",
         "326967.86",
         "357983276.2",
         "44196050.0"
        ],
        [
         "42",
         "KIVO11",
         "69.95",
         "1.2",
         "16.25",
         "0.82",
         "288992.33",
         "188883701.32",
         "2222736.0"
        ],
        [
         "43",
         "KNCR11",
         "103.5",
         "1.2",
         "12.14",
         "1.02",
         "8178282.19",
         "7790099315.25",
         "76509724.0"
        ],
        [
         "44",
         "KNHY11",
         "101.17",
         "1.3",
         "13.72",
         "1.02",
         "1765037.38",
         "2793036416.69",
         "28169507.0"
        ],
        [
         "45",
         "KNIP11",
         "88.06",
         "0.8",
         "12.51",
         "0.96",
         "4065459.67",
         "7381774473.4",
         "80078186.0"
        ],
        [
         "46",
         "KNRI11",
         "142.04",
         "1.0",
         "8.45",
         "0.87",
         "3420170.67",
         "4598154320.06",
         "28204047.0"
        ],
        [
         "47",
         "KNSC11",
         "8.77",
         "0.09",
         "12.66",
         "1.0",
         "3090336.33",
         "1781246617.52",
         "202202385.0"
        ],
        [
         "48",
         "LVBI11",
         "103.94",
         "0.75",
         "9.41",
         "0.88",
         "2215218.52",
         "1896241753.56",
         "16118565.0"
        ],
        [
         "49",
         "MALL11",
         "99.9",
         "0.86",
         "9.8",
         "0.82",
         "1230798.43",
         "1694865745.73",
         "13982093.0"
        ],
        [
         "50",
         "MCCI11",
         "86.8",
         "0.9",
         "11.75",
         "0.92",
         "2022210.24",
         "1600526696.03",
         "16960024.0"
        ]
       ],
       "shape": {
        "columns": 8,
        "rows": 90
       }
      },
      "text/html": [
       "<div>\n",
       "<style scoped>\n",
       "    .dataframe tbody tr th:only-of-type {\n",
       "        vertical-align: middle;\n",
       "    }\n",
       "\n",
       "    .dataframe tbody tr th {\n",
       "        vertical-align: top;\n",
       "    }\n",
       "\n",
       "    .dataframe thead th {\n",
       "        text-align: right;\n",
       "    }\n",
       "</style>\n",
       "<table border=\"1\" class=\"dataframe\">\n",
       "  <thead>\n",
       "    <tr style=\"text-align: right;\">\n",
       "      <th></th>\n",
       "      <th>TICKER</th>\n",
       "      <th>PRECO</th>\n",
       "      <th>ULTIMO DIVIDENDO</th>\n",
       "      <th>DY</th>\n",
       "      <th>P/VP</th>\n",
       "      <th>LIQUIDEZ MEDIA DIARIA</th>\n",
       "      <th>PATRIMONIO</th>\n",
       "      <th>N COTAS</th>\n",
       "    </tr>\n",
       "  </thead>\n",
       "  <tbody>\n",
       "    <tr>\n",
       "      <th>0</th>\n",
       "      <td>AFHI11</td>\n",
       "      <td>91.89</td>\n",
       "      <td>1.0900</td>\n",
       "      <td>12.71</td>\n",
       "      <td>0.97</td>\n",
       "      <td>787285.52</td>\n",
       "      <td>4.316935e+08</td>\n",
       "      <td>4555618.0</td>\n",
       "    </tr>\n",
       "    <tr>\n",
       "      <th>1</th>\n",
       "      <td>AIEC11</td>\n",
       "      <td>46.22</td>\n",
       "      <td>0.3200</td>\n",
       "      <td>13.89</td>\n",
       "      <td>0.60</td>\n",
       "      <td>241787.33</td>\n",
       "      <td>3.742509e+08</td>\n",
       "      <td>4824987.0</td>\n",
       "    </tr>\n",
       "    <tr>\n",
       "      <th>2</th>\n",
       "      <td>ALZR11</td>\n",
       "      <td>10.02</td>\n",
       "      <td>0.0937</td>\n",
       "      <td>9.60</td>\n",
       "      <td>0.93</td>\n",
       "      <td>1199797.57</td>\n",
       "      <td>1.319772e+09</td>\n",
       "      <td>122266250.0</td>\n",
       "    </tr>\n",
       "    <tr>\n",
       "      <th>3</th>\n",
       "      <td>ARRI11</td>\n",
       "      <td>6.87</td>\n",
       "      <td>0.0900</td>\n",
       "      <td>16.01</td>\n",
       "      <td>0.81</td>\n",
       "      <td>191147.76</td>\n",
       "      <td>1.756491e+08</td>\n",
       "      <td>20726973.0</td>\n",
       "    </tr>\n",
       "    <tr>\n",
       "      <th>4</th>\n",
       "      <td>BARI11</td>\n",
       "      <td>78.85</td>\n",
       "      <td>1.0500</td>\n",
       "      <td>13.56</td>\n",
       "      <td>0.86</td>\n",
       "      <td>745463.48</td>\n",
       "      <td>4.227748e+08</td>\n",
       "      <td>4634191.0</td>\n",
       "    </tr>\n",
       "    <tr>\n",
       "      <th>...</th>\n",
       "      <td>...</td>\n",
       "      <td>...</td>\n",
       "      <td>...</td>\n",
       "      <td>...</td>\n",
       "      <td>...</td>\n",
       "      <td>...</td>\n",
       "      <td>...</td>\n",
       "      <td>...</td>\n",
       "    </tr>\n",
       "    <tr>\n",
       "      <th>86</th>\n",
       "      <td>WHGR11</td>\n",
       "      <td>8.79</td>\n",
       "      <td>0.1000</td>\n",
       "      <td>13.60</td>\n",
       "      <td>0.90</td>\n",
       "      <td>273305.10</td>\n",
       "      <td>3.019701e+08</td>\n",
       "      <td>30912378.0</td>\n",
       "    </tr>\n",
       "    <tr>\n",
       "      <th>87</th>\n",
       "      <td>XPCI11</td>\n",
       "      <td>82.24</td>\n",
       "      <td>1.0000</td>\n",
       "      <td>12.50</td>\n",
       "      <td>0.92</td>\n",
       "      <td>1173885.05</td>\n",
       "      <td>7.804463e+08</td>\n",
       "      <td>8701551.0</td>\n",
       "    </tr>\n",
       "    <tr>\n",
       "      <th>88</th>\n",
       "      <td>XPLG11</td>\n",
       "      <td>99.28</td>\n",
       "      <td>0.8200</td>\n",
       "      <td>9.67</td>\n",
       "      <td>0.93</td>\n",
       "      <td>2232140.57</td>\n",
       "      <td>3.332663e+09</td>\n",
       "      <td>31175931.0</td>\n",
       "    </tr>\n",
       "    <tr>\n",
       "      <th>89</th>\n",
       "      <td>XPML11</td>\n",
       "      <td>101.85</td>\n",
       "      <td>0.9200</td>\n",
       "      <td>10.84</td>\n",
       "      <td>0.87</td>\n",
       "      <td>8047811.81</td>\n",
       "      <td>6.658223e+09</td>\n",
       "      <td>56720787.0</td>\n",
       "    </tr>\n",
       "    <tr>\n",
       "      <th>90</th>\n",
       "      <td>XPSF11</td>\n",
       "      <td>6.03</td>\n",
       "      <td>0.0600</td>\n",
       "      <td>13.03</td>\n",
       "      <td>0.78</td>\n",
       "      <td>269871.71</td>\n",
       "      <td>3.349966e+08</td>\n",
       "      <td>43302140.0</td>\n",
       "    </tr>\n",
       "  </tbody>\n",
       "</table>\n",
       "<p>90 rows × 8 columns</p>\n",
       "</div>"
      ],
      "text/plain": [
       "    TICKER   PRECO  ULTIMO DIVIDENDO     DY  P/VP  LIQUIDEZ MEDIA DIARIA  \\\n",
       "0   AFHI11   91.89            1.0900  12.71  0.97              787285.52   \n",
       "1   AIEC11   46.22            0.3200  13.89  0.60              241787.33   \n",
       "2   ALZR11   10.02            0.0937   9.60  0.93             1199797.57   \n",
       "3   ARRI11    6.87            0.0900  16.01  0.81              191147.76   \n",
       "4   BARI11   78.85            1.0500  13.56  0.86              745463.48   \n",
       "..     ...     ...               ...    ...   ...                    ...   \n",
       "86  WHGR11    8.79            0.1000  13.60  0.90              273305.10   \n",
       "87  XPCI11   82.24            1.0000  12.50  0.92             1173885.05   \n",
       "88  XPLG11   99.28            0.8200   9.67  0.93             2232140.57   \n",
       "89  XPML11  101.85            0.9200  10.84  0.87             8047811.81   \n",
       "90  XPSF11    6.03            0.0600  13.03  0.78              269871.71   \n",
       "\n",
       "      PATRIMONIO      N COTAS  \n",
       "0   4.316935e+08    4555618.0  \n",
       "1   3.742509e+08    4824987.0  \n",
       "2   1.319772e+09  122266250.0  \n",
       "3   1.756491e+08   20726973.0  \n",
       "4   4.227748e+08    4634191.0  \n",
       "..           ...          ...  \n",
       "86  3.019701e+08   30912378.0  \n",
       "87  7.804463e+08    8701551.0  \n",
       "88  3.332663e+09   31175931.0  \n",
       "89  6.658223e+09   56720787.0  \n",
       "90  3.349966e+08   43302140.0  \n",
       "\n",
       "[90 rows x 8 columns]"
      ]
     },
     "execution_count": 48,
     "metadata": {},
     "output_type": "execute_result"
    }
   ],
   "source": [
    "data = df.merge(ifix['TICKER'], how='inner', on='TICKER')\n",
    "\n",
    "data = data[data['GESTAO'] == 'Ativa']\n",
    "\n",
    "data.drop(['N COTISTAS',' CAGR VALOR CORA 3 ANOS','CAGR DIVIDENDOS 3 ANOS','PERCENTUAL EM CAIXA','VALOR PATRIMONIAL COTA', 'GESTAO'], axis=1, inplace=True)\n",
    "\n",
    "data"
   ]
  },
  {
   "cell_type": "markdown",
   "id": "7475cef1",
   "metadata": {},
   "source": [
    "# Testando Estratégia DY e P/VP\n",
    "\n",
    "Quero encontrar FIIs boas pagadoras de dividendos (**alto DY**), desvalorizadas (**baixo P/VP**) e com bons patrimônios (**Alto Patrimonio**)"
   ]
  },
  {
   "cell_type": "code",
   "execution_count": 49,
   "id": "f50fb2c1",
   "metadata": {},
   "outputs": [
    {
     "data": {
      "application/vnd.microsoft.datawrangler.viewer.v0+json": {
       "columns": [
        {
         "name": "index",
         "rawType": "int64",
         "type": "integer"
        },
        {
         "name": "TICKER",
         "rawType": "object",
         "type": "string"
        },
        {
         "name": "PRECO",
         "rawType": "float64",
         "type": "float"
        },
        {
         "name": "ULTIMO DIVIDENDO",
         "rawType": "float64",
         "type": "float"
        },
        {
         "name": "DY",
         "rawType": "float64",
         "type": "float"
        },
        {
         "name": "P/VP",
         "rawType": "float64",
         "type": "float"
        },
        {
         "name": "LIQUIDEZ MEDIA DIARIA",
         "rawType": "float64",
         "type": "float"
        },
        {
         "name": "PATRIMONIO",
         "rawType": "float64",
         "type": "float"
        },
        {
         "name": " N COTAS",
         "rawType": "float64",
         "type": "float"
        },
        {
         "name": "ranking_dy",
         "rawType": "float64",
         "type": "float"
        },
        {
         "name": "ranking_p_vp",
         "rawType": "float64",
         "type": "float"
        },
        {
         "name": "ranking_patrimonio",
         "rawType": "float64",
         "type": "float"
        },
        {
         "name": "ranking_final",
         "rawType": "float64",
         "type": "float"
        },
        {
         "name": "rank_final",
         "rawType": "float64",
         "type": "float"
        }
       ],
       "ref": "baf9abb4-0c3d-4c81-a4a3-eaf5f2e77ec6",
       "rows": [
        [
         "23",
         "HCTR11",
         "23.45",
         "0.3759",
         "17.55",
         "0.22",
         "599526.0",
         "2307509700.09",
         "22084202.0",
         "3.0",
         "1.0",
         "17.0",
         "4.0",
         "21.0"
        ],
        [
         "76",
         "URPR11",
         "39.77",
         "0.45",
         "24.14",
         "0.4",
         "652422.38",
         "1170106639.17",
         "11733895.0",
         "1.0",
         "3.0",
         "47.0",
         "4.0",
         "51.0"
        ],
        [
         "17",
         "DEVA11",
         "33.09",
         "0.46",
         "16.02",
         "0.34",
         "520307.0",
         "1364551185.73",
         "14044908.0",
         "8.0",
         "2.0",
         "40.0",
         "10.0",
         "50.0"
        ],
        [
         "8",
         "BPML11",
         "79.8",
         "0.92",
         "18.37",
         "0.61",
         "638566.62",
         "969090219.17",
         "7441745.0",
         "2.0",
         "10.0",
         "51.0",
         "12.0",
         "63.0"
        ],
        [
         "84",
         "VIUR11",
         "5.55",
         "0.067",
         "14.49",
         "0.63",
         "231402.81",
         "235716665.21",
         "26946220.0",
         "16.0",
         "12.5",
         "85.0",
         "28.5",
         "113.5"
        ],
        [
         "36",
         "IRDM11",
         "60.8",
         "0.84",
         "15.54",
         "0.73",
         "3429530.67",
         "3018082901.63",
         "36433827.0",
         "10.0",
         "19.0",
         "10.0",
         "29.0",
         "39.0"
        ],
        [
         "51",
         "MFII11",
         "80.29",
         "1.11",
         "17.09",
         "0.77",
         "654771.52",
         "619000725.64",
         "5962395.0",
         "4.0",
         "25.0",
         "64.0",
         "29.0",
         "93.0"
        ],
        [
         "1",
         "AIEC11",
         "46.22",
         "0.32",
         "13.89",
         "0.6",
         "241787.33",
         "374250889.38",
         "4824987.0",
         "24.0",
         "9.0",
         "74.0",
         "33.0",
         "107.0"
        ],
        [
         "6",
         "BCRI11",
         "63.65",
         "0.85",
         "15.18",
         "0.74",
         "393173.52",
         "535990598.86",
         "6257873.0",
         "12.0",
         "21.5",
         "65.0",
         "33.5",
         "98.5"
        ],
        [
         "72",
         "TGAR11",
         "85.49",
         "1.0",
         "15.07",
         "0.77",
         "2937174.57",
         "2619551443.98",
         "23567968.0",
         "13.0",
         "25.0",
         "15.0",
         "38.0",
         "53.0"
        ]
       ],
       "shape": {
        "columns": 13,
        "rows": 10
       }
      },
      "text/html": [
       "<div>\n",
       "<style scoped>\n",
       "    .dataframe tbody tr th:only-of-type {\n",
       "        vertical-align: middle;\n",
       "    }\n",
       "\n",
       "    .dataframe tbody tr th {\n",
       "        vertical-align: top;\n",
       "    }\n",
       "\n",
       "    .dataframe thead th {\n",
       "        text-align: right;\n",
       "    }\n",
       "</style>\n",
       "<table border=\"1\" class=\"dataframe\">\n",
       "  <thead>\n",
       "    <tr style=\"text-align: right;\">\n",
       "      <th></th>\n",
       "      <th>TICKER</th>\n",
       "      <th>PRECO</th>\n",
       "      <th>ULTIMO DIVIDENDO</th>\n",
       "      <th>DY</th>\n",
       "      <th>P/VP</th>\n",
       "      <th>LIQUIDEZ MEDIA DIARIA</th>\n",
       "      <th>PATRIMONIO</th>\n",
       "      <th>N COTAS</th>\n",
       "      <th>ranking_dy</th>\n",
       "      <th>ranking_p_vp</th>\n",
       "      <th>ranking_patrimonio</th>\n",
       "      <th>ranking_final</th>\n",
       "      <th>rank_final</th>\n",
       "    </tr>\n",
       "  </thead>\n",
       "  <tbody>\n",
       "    <tr>\n",
       "      <th>23</th>\n",
       "      <td>HCTR11</td>\n",
       "      <td>23.45</td>\n",
       "      <td>0.3759</td>\n",
       "      <td>17.55</td>\n",
       "      <td>0.22</td>\n",
       "      <td>599526.00</td>\n",
       "      <td>2.307510e+09</td>\n",
       "      <td>22084202.0</td>\n",
       "      <td>3.0</td>\n",
       "      <td>1.0</td>\n",
       "      <td>17.0</td>\n",
       "      <td>4.0</td>\n",
       "      <td>21.0</td>\n",
       "    </tr>\n",
       "    <tr>\n",
       "      <th>76</th>\n",
       "      <td>URPR11</td>\n",
       "      <td>39.77</td>\n",
       "      <td>0.4500</td>\n",
       "      <td>24.14</td>\n",
       "      <td>0.40</td>\n",
       "      <td>652422.38</td>\n",
       "      <td>1.170107e+09</td>\n",
       "      <td>11733895.0</td>\n",
       "      <td>1.0</td>\n",
       "      <td>3.0</td>\n",
       "      <td>47.0</td>\n",
       "      <td>4.0</td>\n",
       "      <td>51.0</td>\n",
       "    </tr>\n",
       "    <tr>\n",
       "      <th>17</th>\n",
       "      <td>DEVA11</td>\n",
       "      <td>33.09</td>\n",
       "      <td>0.4600</td>\n",
       "      <td>16.02</td>\n",
       "      <td>0.34</td>\n",
       "      <td>520307.00</td>\n",
       "      <td>1.364551e+09</td>\n",
       "      <td>14044908.0</td>\n",
       "      <td>8.0</td>\n",
       "      <td>2.0</td>\n",
       "      <td>40.0</td>\n",
       "      <td>10.0</td>\n",
       "      <td>50.0</td>\n",
       "    </tr>\n",
       "    <tr>\n",
       "      <th>8</th>\n",
       "      <td>BPML11</td>\n",
       "      <td>79.80</td>\n",
       "      <td>0.9200</td>\n",
       "      <td>18.37</td>\n",
       "      <td>0.61</td>\n",
       "      <td>638566.62</td>\n",
       "      <td>9.690902e+08</td>\n",
       "      <td>7441745.0</td>\n",
       "      <td>2.0</td>\n",
       "      <td>10.0</td>\n",
       "      <td>51.0</td>\n",
       "      <td>12.0</td>\n",
       "      <td>63.0</td>\n",
       "    </tr>\n",
       "    <tr>\n",
       "      <th>84</th>\n",
       "      <td>VIUR11</td>\n",
       "      <td>5.55</td>\n",
       "      <td>0.0670</td>\n",
       "      <td>14.49</td>\n",
       "      <td>0.63</td>\n",
       "      <td>231402.81</td>\n",
       "      <td>2.357167e+08</td>\n",
       "      <td>26946220.0</td>\n",
       "      <td>16.0</td>\n",
       "      <td>12.5</td>\n",
       "      <td>85.0</td>\n",
       "      <td>28.5</td>\n",
       "      <td>113.5</td>\n",
       "    </tr>\n",
       "    <tr>\n",
       "      <th>36</th>\n",
       "      <td>IRDM11</td>\n",
       "      <td>60.80</td>\n",
       "      <td>0.8400</td>\n",
       "      <td>15.54</td>\n",
       "      <td>0.73</td>\n",
       "      <td>3429530.67</td>\n",
       "      <td>3.018083e+09</td>\n",
       "      <td>36433827.0</td>\n",
       "      <td>10.0</td>\n",
       "      <td>19.0</td>\n",
       "      <td>10.0</td>\n",
       "      <td>29.0</td>\n",
       "      <td>39.0</td>\n",
       "    </tr>\n",
       "    <tr>\n",
       "      <th>51</th>\n",
       "      <td>MFII11</td>\n",
       "      <td>80.29</td>\n",
       "      <td>1.1100</td>\n",
       "      <td>17.09</td>\n",
       "      <td>0.77</td>\n",
       "      <td>654771.52</td>\n",
       "      <td>6.190007e+08</td>\n",
       "      <td>5962395.0</td>\n",
       "      <td>4.0</td>\n",
       "      <td>25.0</td>\n",
       "      <td>64.0</td>\n",
       "      <td>29.0</td>\n",
       "      <td>93.0</td>\n",
       "    </tr>\n",
       "    <tr>\n",
       "      <th>1</th>\n",
       "      <td>AIEC11</td>\n",
       "      <td>46.22</td>\n",
       "      <td>0.3200</td>\n",
       "      <td>13.89</td>\n",
       "      <td>0.60</td>\n",
       "      <td>241787.33</td>\n",
       "      <td>3.742509e+08</td>\n",
       "      <td>4824987.0</td>\n",
       "      <td>24.0</td>\n",
       "      <td>9.0</td>\n",
       "      <td>74.0</td>\n",
       "      <td>33.0</td>\n",
       "      <td>107.0</td>\n",
       "    </tr>\n",
       "    <tr>\n",
       "      <th>6</th>\n",
       "      <td>BCRI11</td>\n",
       "      <td>63.65</td>\n",
       "      <td>0.8500</td>\n",
       "      <td>15.18</td>\n",
       "      <td>0.74</td>\n",
       "      <td>393173.52</td>\n",
       "      <td>5.359906e+08</td>\n",
       "      <td>6257873.0</td>\n",
       "      <td>12.0</td>\n",
       "      <td>21.5</td>\n",
       "      <td>65.0</td>\n",
       "      <td>33.5</td>\n",
       "      <td>98.5</td>\n",
       "    </tr>\n",
       "    <tr>\n",
       "      <th>72</th>\n",
       "      <td>TGAR11</td>\n",
       "      <td>85.49</td>\n",
       "      <td>1.0000</td>\n",
       "      <td>15.07</td>\n",
       "      <td>0.77</td>\n",
       "      <td>2937174.57</td>\n",
       "      <td>2.619551e+09</td>\n",
       "      <td>23567968.0</td>\n",
       "      <td>13.0</td>\n",
       "      <td>25.0</td>\n",
       "      <td>15.0</td>\n",
       "      <td>38.0</td>\n",
       "      <td>53.0</td>\n",
       "    </tr>\n",
       "  </tbody>\n",
       "</table>\n",
       "</div>"
      ],
      "text/plain": [
       "    TICKER  PRECO  ULTIMO DIVIDENDO     DY  P/VP  LIQUIDEZ MEDIA DIARIA  \\\n",
       "23  HCTR11  23.45            0.3759  17.55  0.22              599526.00   \n",
       "76  URPR11  39.77            0.4500  24.14  0.40              652422.38   \n",
       "17  DEVA11  33.09            0.4600  16.02  0.34              520307.00   \n",
       "8   BPML11  79.80            0.9200  18.37  0.61              638566.62   \n",
       "84  VIUR11   5.55            0.0670  14.49  0.63              231402.81   \n",
       "36  IRDM11  60.80            0.8400  15.54  0.73             3429530.67   \n",
       "51  MFII11  80.29            1.1100  17.09  0.77              654771.52   \n",
       "1   AIEC11  46.22            0.3200  13.89  0.60              241787.33   \n",
       "6   BCRI11  63.65            0.8500  15.18  0.74              393173.52   \n",
       "72  TGAR11  85.49            1.0000  15.07  0.77             2937174.57   \n",
       "\n",
       "      PATRIMONIO     N COTAS  ranking_dy  ranking_p_vp  ranking_patrimonio  \\\n",
       "23  2.307510e+09  22084202.0         3.0           1.0                17.0   \n",
       "76  1.170107e+09  11733895.0         1.0           3.0                47.0   \n",
       "17  1.364551e+09  14044908.0         8.0           2.0                40.0   \n",
       "8   9.690902e+08   7441745.0         2.0          10.0                51.0   \n",
       "84  2.357167e+08  26946220.0        16.0          12.5                85.0   \n",
       "36  3.018083e+09  36433827.0        10.0          19.0                10.0   \n",
       "51  6.190007e+08   5962395.0         4.0          25.0                64.0   \n",
       "1   3.742509e+08   4824987.0        24.0           9.0                74.0   \n",
       "6   5.359906e+08   6257873.0        12.0          21.5                65.0   \n",
       "72  2.619551e+09  23567968.0        13.0          25.0                15.0   \n",
       "\n",
       "    ranking_final  rank_final  \n",
       "23            4.0        21.0  \n",
       "76            4.0        51.0  \n",
       "17           10.0        50.0  \n",
       "8            12.0        63.0  \n",
       "84           28.5       113.5  \n",
       "36           29.0        39.0  \n",
       "51           29.0        93.0  \n",
       "1            33.0       107.0  \n",
       "6            33.5        98.5  \n",
       "72           38.0        53.0  "
      ]
     },
     "execution_count": 49,
     "metadata": {},
     "output_type": "execute_result"
    }
   ],
   "source": [
    "data['ranking_dy'] = data['DY'].rank(ascending=False)\n",
    "data['ranking_p_vp'] = data['P/VP'].rank(ascending=True)\n",
    "data['ranking_patrimonio'] = data['PATRIMONIO'].rank(ascending=False)\n",
    "\n",
    "data['ranking_final'] = data['ranking_dy'] + data['ranking_p_vp']\n",
    "\n",
    "data['rank_final'] = data['ranking_dy'] + data['ranking_p_vp'] + data['ranking_patrimonio']\n",
    "\n",
    "data.sort_values(by='ranking_final').head(10)"
   ]
  },
  {
   "cell_type": "code",
   "execution_count": 50,
   "id": "aec42795",
   "metadata": {},
   "outputs": [
    {
     "data": {
      "application/vnd.microsoft.datawrangler.viewer.v0+json": {
       "columns": [
        {
         "name": "index",
         "rawType": "int64",
         "type": "integer"
        },
        {
         "name": "TICKER",
         "rawType": "object",
         "type": "string"
        },
        {
         "name": "PRECO",
         "rawType": "float64",
         "type": "float"
        },
        {
         "name": "ULTIMO DIVIDENDO",
         "rawType": "float64",
         "type": "float"
        },
        {
         "name": "DY",
         "rawType": "float64",
         "type": "float"
        },
        {
         "name": "P/VP",
         "rawType": "float64",
         "type": "float"
        },
        {
         "name": "LIQUIDEZ MEDIA DIARIA",
         "rawType": "float64",
         "type": "float"
        },
        {
         "name": "PATRIMONIO",
         "rawType": "float64",
         "type": "float"
        },
        {
         "name": " N COTAS",
         "rawType": "float64",
         "type": "float"
        },
        {
         "name": "ranking_dy",
         "rawType": "float64",
         "type": "float"
        },
        {
         "name": "ranking_p_vp",
         "rawType": "float64",
         "type": "float"
        },
        {
         "name": "ranking_patrimonio",
         "rawType": "float64",
         "type": "float"
        },
        {
         "name": "ranking_final",
         "rawType": "float64",
         "type": "float"
        },
        {
         "name": "rank_final",
         "rawType": "float64",
         "type": "float"
        }
       ],
       "ref": "de05d0e3-617a-4bf8-b8ed-dba804057944",
       "rows": [
        [
         "23",
         "HCTR11",
         "23.45",
         "0.3759",
         "17.55",
         "0.22",
         "599526.0",
         "2307509700.09",
         "22084202.0",
         "3.0",
         "1.0",
         "17.0",
         "4.0",
         "21.0"
        ],
        [
         "36",
         "IRDM11",
         "60.8",
         "0.84",
         "15.54",
         "0.73",
         "3429530.67",
         "3018082901.63",
         "36433827.0",
         "10.0",
         "19.0",
         "10.0",
         "29.0",
         "39.0"
        ],
        [
         "17",
         "DEVA11",
         "33.09",
         "0.46",
         "16.02",
         "0.34",
         "520307.0",
         "1364551185.73",
         "14044908.0",
         "8.0",
         "2.0",
         "40.0",
         "10.0",
         "50.0"
        ],
        [
         "76",
         "URPR11",
         "39.77",
         "0.45",
         "24.14",
         "0.4",
         "652422.38",
         "1170106639.17",
         "11733895.0",
         "1.0",
         "3.0",
         "47.0",
         "4.0",
         "51.0"
        ],
        [
         "72",
         "TGAR11",
         "85.49",
         "1.0",
         "15.07",
         "0.77",
         "2937174.57",
         "2619551443.98",
         "23567968.0",
         "13.0",
         "25.0",
         "15.0",
         "38.0",
         "53.0"
        ],
        [
         "10",
         "BRCR11",
         "41.9",
         "0.41",
         "13.48",
         "0.49",
         "885022.62",
         "2263415655.42",
         "26638202.0",
         "34.0",
         "4.0",
         "18.0",
         "38.0",
         "56.0"
        ],
        [
         "8",
         "BPML11",
         "79.8",
         "0.92",
         "18.37",
         "0.61",
         "638566.62",
         "969090219.17",
         "7441745.0",
         "2.0",
         "10.0",
         "51.0",
         "12.0",
         "63.0"
        ],
        [
         "51",
         "MFII11",
         "80.29",
         "1.11",
         "17.09",
         "0.77",
         "654771.52",
         "619000725.64",
         "5962395.0",
         "4.0",
         "25.0",
         "64.0",
         "29.0",
         "93.0"
        ],
        [
         "63",
         "RBVA11",
         "8.37",
         "0.09",
         "13.38",
         "0.79",
         "1849928.67",
         "1659679089.26",
         "156143050.0",
         "35.0",
         "30.0",
         "31.0",
         "65.0",
         "96.0"
        ],
        [
         "6",
         "BCRI11",
         "63.65",
         "0.85",
         "15.18",
         "0.74",
         "393173.52",
         "535990598.86",
         "6257873.0",
         "12.0",
         "21.5",
         "65.0",
         "33.5",
         "98.5"
        ]
       ],
       "shape": {
        "columns": 13,
        "rows": 10
       }
      },
      "text/html": [
       "<div>\n",
       "<style scoped>\n",
       "    .dataframe tbody tr th:only-of-type {\n",
       "        vertical-align: middle;\n",
       "    }\n",
       "\n",
       "    .dataframe tbody tr th {\n",
       "        vertical-align: top;\n",
       "    }\n",
       "\n",
       "    .dataframe thead th {\n",
       "        text-align: right;\n",
       "    }\n",
       "</style>\n",
       "<table border=\"1\" class=\"dataframe\">\n",
       "  <thead>\n",
       "    <tr style=\"text-align: right;\">\n",
       "      <th></th>\n",
       "      <th>TICKER</th>\n",
       "      <th>PRECO</th>\n",
       "      <th>ULTIMO DIVIDENDO</th>\n",
       "      <th>DY</th>\n",
       "      <th>P/VP</th>\n",
       "      <th>LIQUIDEZ MEDIA DIARIA</th>\n",
       "      <th>PATRIMONIO</th>\n",
       "      <th>N COTAS</th>\n",
       "      <th>ranking_dy</th>\n",
       "      <th>ranking_p_vp</th>\n",
       "      <th>ranking_patrimonio</th>\n",
       "      <th>ranking_final</th>\n",
       "      <th>rank_final</th>\n",
       "    </tr>\n",
       "  </thead>\n",
       "  <tbody>\n",
       "    <tr>\n",
       "      <th>23</th>\n",
       "      <td>HCTR11</td>\n",
       "      <td>23.45</td>\n",
       "      <td>0.3759</td>\n",
       "      <td>17.55</td>\n",
       "      <td>0.22</td>\n",
       "      <td>599526.00</td>\n",
       "      <td>2.307510e+09</td>\n",
       "      <td>22084202.0</td>\n",
       "      <td>3.0</td>\n",
       "      <td>1.0</td>\n",
       "      <td>17.0</td>\n",
       "      <td>4.0</td>\n",
       "      <td>21.0</td>\n",
       "    </tr>\n",
       "    <tr>\n",
       "      <th>36</th>\n",
       "      <td>IRDM11</td>\n",
       "      <td>60.80</td>\n",
       "      <td>0.8400</td>\n",
       "      <td>15.54</td>\n",
       "      <td>0.73</td>\n",
       "      <td>3429530.67</td>\n",
       "      <td>3.018083e+09</td>\n",
       "      <td>36433827.0</td>\n",
       "      <td>10.0</td>\n",
       "      <td>19.0</td>\n",
       "      <td>10.0</td>\n",
       "      <td>29.0</td>\n",
       "      <td>39.0</td>\n",
       "    </tr>\n",
       "    <tr>\n",
       "      <th>17</th>\n",
       "      <td>DEVA11</td>\n",
       "      <td>33.09</td>\n",
       "      <td>0.4600</td>\n",
       "      <td>16.02</td>\n",
       "      <td>0.34</td>\n",
       "      <td>520307.00</td>\n",
       "      <td>1.364551e+09</td>\n",
       "      <td>14044908.0</td>\n",
       "      <td>8.0</td>\n",
       "      <td>2.0</td>\n",
       "      <td>40.0</td>\n",
       "      <td>10.0</td>\n",
       "      <td>50.0</td>\n",
       "    </tr>\n",
       "    <tr>\n",
       "      <th>76</th>\n",
       "      <td>URPR11</td>\n",
       "      <td>39.77</td>\n",
       "      <td>0.4500</td>\n",
       "      <td>24.14</td>\n",
       "      <td>0.40</td>\n",
       "      <td>652422.38</td>\n",
       "      <td>1.170107e+09</td>\n",
       "      <td>11733895.0</td>\n",
       "      <td>1.0</td>\n",
       "      <td>3.0</td>\n",
       "      <td>47.0</td>\n",
       "      <td>4.0</td>\n",
       "      <td>51.0</td>\n",
       "    </tr>\n",
       "    <tr>\n",
       "      <th>72</th>\n",
       "      <td>TGAR11</td>\n",
       "      <td>85.49</td>\n",
       "      <td>1.0000</td>\n",
       "      <td>15.07</td>\n",
       "      <td>0.77</td>\n",
       "      <td>2937174.57</td>\n",
       "      <td>2.619551e+09</td>\n",
       "      <td>23567968.0</td>\n",
       "      <td>13.0</td>\n",
       "      <td>25.0</td>\n",
       "      <td>15.0</td>\n",
       "      <td>38.0</td>\n",
       "      <td>53.0</td>\n",
       "    </tr>\n",
       "    <tr>\n",
       "      <th>10</th>\n",
       "      <td>BRCR11</td>\n",
       "      <td>41.90</td>\n",
       "      <td>0.4100</td>\n",
       "      <td>13.48</td>\n",
       "      <td>0.49</td>\n",
       "      <td>885022.62</td>\n",
       "      <td>2.263416e+09</td>\n",
       "      <td>26638202.0</td>\n",
       "      <td>34.0</td>\n",
       "      <td>4.0</td>\n",
       "      <td>18.0</td>\n",
       "      <td>38.0</td>\n",
       "      <td>56.0</td>\n",
       "    </tr>\n",
       "    <tr>\n",
       "      <th>8</th>\n",
       "      <td>BPML11</td>\n",
       "      <td>79.80</td>\n",
       "      <td>0.9200</td>\n",
       "      <td>18.37</td>\n",
       "      <td>0.61</td>\n",
       "      <td>638566.62</td>\n",
       "      <td>9.690902e+08</td>\n",
       "      <td>7441745.0</td>\n",
       "      <td>2.0</td>\n",
       "      <td>10.0</td>\n",
       "      <td>51.0</td>\n",
       "      <td>12.0</td>\n",
       "      <td>63.0</td>\n",
       "    </tr>\n",
       "    <tr>\n",
       "      <th>51</th>\n",
       "      <td>MFII11</td>\n",
       "      <td>80.29</td>\n",
       "      <td>1.1100</td>\n",
       "      <td>17.09</td>\n",
       "      <td>0.77</td>\n",
       "      <td>654771.52</td>\n",
       "      <td>6.190007e+08</td>\n",
       "      <td>5962395.0</td>\n",
       "      <td>4.0</td>\n",
       "      <td>25.0</td>\n",
       "      <td>64.0</td>\n",
       "      <td>29.0</td>\n",
       "      <td>93.0</td>\n",
       "    </tr>\n",
       "    <tr>\n",
       "      <th>63</th>\n",
       "      <td>RBVA11</td>\n",
       "      <td>8.37</td>\n",
       "      <td>0.0900</td>\n",
       "      <td>13.38</td>\n",
       "      <td>0.79</td>\n",
       "      <td>1849928.67</td>\n",
       "      <td>1.659679e+09</td>\n",
       "      <td>156143050.0</td>\n",
       "      <td>35.0</td>\n",
       "      <td>30.0</td>\n",
       "      <td>31.0</td>\n",
       "      <td>65.0</td>\n",
       "      <td>96.0</td>\n",
       "    </tr>\n",
       "    <tr>\n",
       "      <th>6</th>\n",
       "      <td>BCRI11</td>\n",
       "      <td>63.65</td>\n",
       "      <td>0.8500</td>\n",
       "      <td>15.18</td>\n",
       "      <td>0.74</td>\n",
       "      <td>393173.52</td>\n",
       "      <td>5.359906e+08</td>\n",
       "      <td>6257873.0</td>\n",
       "      <td>12.0</td>\n",
       "      <td>21.5</td>\n",
       "      <td>65.0</td>\n",
       "      <td>33.5</td>\n",
       "      <td>98.5</td>\n",
       "    </tr>\n",
       "  </tbody>\n",
       "</table>\n",
       "</div>"
      ],
      "text/plain": [
       "    TICKER  PRECO  ULTIMO DIVIDENDO     DY  P/VP  LIQUIDEZ MEDIA DIARIA  \\\n",
       "23  HCTR11  23.45            0.3759  17.55  0.22              599526.00   \n",
       "36  IRDM11  60.80            0.8400  15.54  0.73             3429530.67   \n",
       "17  DEVA11  33.09            0.4600  16.02  0.34              520307.00   \n",
       "76  URPR11  39.77            0.4500  24.14  0.40              652422.38   \n",
       "72  TGAR11  85.49            1.0000  15.07  0.77             2937174.57   \n",
       "10  BRCR11  41.90            0.4100  13.48  0.49              885022.62   \n",
       "8   BPML11  79.80            0.9200  18.37  0.61              638566.62   \n",
       "51  MFII11  80.29            1.1100  17.09  0.77              654771.52   \n",
       "63  RBVA11   8.37            0.0900  13.38  0.79             1849928.67   \n",
       "6   BCRI11  63.65            0.8500  15.18  0.74              393173.52   \n",
       "\n",
       "      PATRIMONIO      N COTAS  ranking_dy  ranking_p_vp  ranking_patrimonio  \\\n",
       "23  2.307510e+09   22084202.0         3.0           1.0                17.0   \n",
       "36  3.018083e+09   36433827.0        10.0          19.0                10.0   \n",
       "17  1.364551e+09   14044908.0         8.0           2.0                40.0   \n",
       "76  1.170107e+09   11733895.0         1.0           3.0                47.0   \n",
       "72  2.619551e+09   23567968.0        13.0          25.0                15.0   \n",
       "10  2.263416e+09   26638202.0        34.0           4.0                18.0   \n",
       "8   9.690902e+08    7441745.0         2.0          10.0                51.0   \n",
       "51  6.190007e+08    5962395.0         4.0          25.0                64.0   \n",
       "63  1.659679e+09  156143050.0        35.0          30.0                31.0   \n",
       "6   5.359906e+08    6257873.0        12.0          21.5                65.0   \n",
       "\n",
       "    ranking_final  rank_final  \n",
       "23            4.0        21.0  \n",
       "36           29.0        39.0  \n",
       "17           10.0        50.0  \n",
       "76            4.0        51.0  \n",
       "72           38.0        53.0  \n",
       "10           38.0        56.0  \n",
       "8            12.0        63.0  \n",
       "51           29.0        93.0  \n",
       "63           65.0        96.0  \n",
       "6            33.5        98.5  "
      ]
     },
     "execution_count": 50,
     "metadata": {},
     "output_type": "execute_result"
    }
   ],
   "source": [
    "data.sort_values(by='rank_final').head(10)"
   ]
  },
  {
   "cell_type": "code",
   "execution_count": 51,
   "id": "efbc99aa",
   "metadata": {},
   "outputs": [
    {
     "data": {
      "image/png": "[encoded data removed]",
      "text/plain": [
       "<Figure size 640x480 with 1 Axes>"
      ]
     },
     "metadata": {},
     "output_type": "display_data"
    }
   ],
   "source": [
    "rank_dy = data.sort_values(by='DY', ascending=False).head(10)\n",
    "\n",
    "ax = sns.barplot(rank_dy,y='TICKER',x='DY',orient='h', color='#08F7FE')\n",
    "ax.bar_label(ax.containers[0])\n",
    "\n",
    "plt.title('Top 10 FIIs com maiores DY')\n",
    "plt.xlabel('Dividend Yield')\n",
    "plt.ylabel('Tickers')\n",
    "\n",
    "plt.show()"
   ]
  },
  {
   "cell_type": "code",
   "execution_count": 52,
   "id": "bc1b2cbb",
   "metadata": {},
   "outputs": [
    {
     "data": {
      "image/png": "[encoded data removed]",
      "text/plain": [
       "<Figure size 640x480 with 1 Axes>"
      ]
     },
     "metadata": {},
     "output_type": "display_data"
    }
   ],
   "source": [
    "rank_p_vp = data.sort_values(by='P/VP', ascending=False).tail(10)\n",
    "\n",
    "ax = sns.barplot(rank_p_vp.sort_values(by='P/VP'),y='TICKER',x='P/VP',orient='h', color='#08F7FE')\n",
    "ax.bar_label(ax.containers[0])\n",
    "\n",
    "plt.title('Top 10 FIIs mais \"Desvalorizadas\"')\n",
    "plt.xlabel('Preço por Valor Patrimonial')\n",
    "plt.ylabel('Tickers')\n",
    "\n",
    "plt.show()"
   ]
  },
  {
   "cell_type": "code",
   "execution_count": 53,
   "id": "5b63ea64",
   "metadata": {},
   "outputs": [
    {
     "data": {
      "application/vnd.microsoft.datawrangler.viewer.v0+json": {
       "columns": [
        {
         "name": "index",
         "rawType": "int64",
         "type": "integer"
        },
        {
         "name": "TICKER",
         "rawType": "object",
         "type": "string"
        },
        {
         "name": "PRECO",
         "rawType": "float64",
         "type": "float"
        },
        {
         "name": "ULTIMO DIVIDENDO",
         "rawType": "float64",
         "type": "float"
        },
        {
         "name": "DY",
         "rawType": "float64",
         "type": "float"
        },
        {
         "name": "P/VP",
         "rawType": "float64",
         "type": "float"
        },
        {
         "name": "LIQUIDEZ MEDIA DIARIA",
         "rawType": "float64",
         "type": "float"
        },
        {
         "name": "PATRIMONIO",
         "rawType": "float64",
         "type": "float"
        },
        {
         "name": " N COTAS",
         "rawType": "float64",
         "type": "float"
        },
        {
         "name": "ranking_dy",
         "rawType": "float64",
         "type": "float"
        },
        {
         "name": "ranking_p_vp",
         "rawType": "float64",
         "type": "float"
        },
        {
         "name": "ranking_patrimonio",
         "rawType": "float64",
         "type": "float"
        },
        {
         "name": "ranking_final",
         "rawType": "float64",
         "type": "float"
        },
        {
         "name": "rank_final",
         "rawType": "float64",
         "type": "float"
        }
       ],
       "ref": "a4ac5b8b-8db9-4e97-a08d-820294d4f4cf",
       "rows": [
        [
         "23",
         "HCTR11",
         "23.45",
         "0.3759",
         "17.55",
         "0.22",
         "599526.0",
         "2307509700.09",
         "22084202.0",
         "3.0",
         "1.0",
         "17.0",
         "4.0",
         "21.0"
        ],
        [
         "36",
         "IRDM11",
         "60.8",
         "0.84",
         "15.54",
         "0.73",
         "3429530.67",
         "3018082901.63",
         "36433827.0",
         "10.0",
         "19.0",
         "10.0",
         "29.0",
         "39.0"
        ],
        [
         "17",
         "DEVA11",
         "33.09",
         "0.46",
         "16.02",
         "0.34",
         "520307.0",
         "1364551185.73",
         "14044908.0",
         "8.0",
         "2.0",
         "40.0",
         "10.0",
         "50.0"
        ],
        [
         "76",
         "URPR11",
         "39.77",
         "0.45",
         "24.14",
         "0.4",
         "652422.38",
         "1170106639.17",
         "11733895.0",
         "1.0",
         "3.0",
         "47.0",
         "4.0",
         "51.0"
        ],
        [
         "72",
         "TGAR11",
         "85.49",
         "1.0",
         "15.07",
         "0.77",
         "2937174.57",
         "2619551443.98",
         "23567968.0",
         "13.0",
         "25.0",
         "15.0",
         "38.0",
         "53.0"
        ],
        [
         "10",
         "BRCR11",
         "41.9",
         "0.41",
         "13.48",
         "0.49",
         "885022.62",
         "2263415655.42",
         "26638202.0",
         "34.0",
         "4.0",
         "18.0",
         "38.0",
         "56.0"
        ],
        [
         "8",
         "BPML11",
         "79.8",
         "0.92",
         "18.37",
         "0.61",
         "638566.62",
         "969090219.17",
         "7441745.0",
         "2.0",
         "10.0",
         "51.0",
         "12.0",
         "63.0"
        ],
        [
         "51",
         "MFII11",
         "80.29",
         "1.11",
         "17.09",
         "0.77",
         "654771.52",
         "619000725.64",
         "5962395.0",
         "4.0",
         "25.0",
         "64.0",
         "29.0",
         "93.0"
        ],
        [
         "63",
         "RBVA11",
         "8.37",
         "0.09",
         "13.38",
         "0.79",
         "1849928.67",
         "1659679089.26",
         "156143050.0",
         "35.0",
         "30.0",
         "31.0",
         "65.0",
         "96.0"
        ],
        [
         "6",
         "BCRI11",
         "63.65",
         "0.85",
         "15.18",
         "0.74",
         "393173.52",
         "535990598.86",
         "6257873.0",
         "12.0",
         "21.5",
         "65.0",
         "33.5",
         "98.5"
        ]
       ],
       "shape": {
        "columns": 13,
        "rows": 10
       }
      },
      "text/html": [
       "<div>\n",
       "<style scoped>\n",
       "    .dataframe tbody tr th:only-of-type {\n",
       "        vertical-align: middle;\n",
       "    }\n",
       "\n",
       "    .dataframe tbody tr th {\n",
       "        vertical-align: top;\n",
       "    }\n",
       "\n",
       "    .dataframe thead th {\n",
       "        text-align: right;\n",
       "    }\n",
       "</style>\n",
       "<table border=\"1\" class=\"dataframe\">\n",
       "  <thead>\n",
       "    <tr style=\"text-align: right;\">\n",
       "      <th></th>\n",
       "      <th>TICKER</th>\n",
       "      <th>PRECO</th>\n",
       "      <th>ULTIMO DIVIDENDO</th>\n",
       "      <th>DY</th>\n",
       "      <th>P/VP</th>\n",
       "      <th>LIQUIDEZ MEDIA DIARIA</th>\n",
       "      <th>PATRIMONIO</th>\n",
       "      <th>N COTAS</th>\n",
       "      <th>ranking_dy</th>\n",
       "      <th>ranking_p_vp</th>\n",
       "      <th>ranking_patrimonio</th>\n",
       "      <th>ranking_final</th>\n",
       "      <th>rank_final</th>\n",
       "    </tr>\n",
       "  </thead>\n",
       "  <tbody>\n",
       "    <tr>\n",
       "      <th>23</th>\n",
       "      <td>HCTR11</td>\n",
       "      <td>23.45</td>\n",
       "      <td>0.3759</td>\n",
       "      <td>17.55</td>\n",
       "      <td>0.22</td>\n",
       "      <td>599526.00</td>\n",
       "      <td>2.307510e+09</td>\n",
       "      <td>22084202.0</td>\n",
       "      <td>3.0</td>\n",
       "      <td>1.0</td>\n",
       "      <td>17.0</td>\n",
       "      <td>4.0</td>\n",
       "      <td>21.0</td>\n",
       "    </tr>\n",
       "    <tr>\n",
       "      <th>36</th>\n",
       "      <td>IRDM11</td>\n",
       "      <td>60.80</td>\n",
       "      <td>0.8400</td>\n",
       "      <td>15.54</td>\n",
       "      <td>0.73</td>\n",
       "      <td>3429530.67</td>\n",
       "      <td>3.018083e+09</td>\n",
       "      <td>36433827.0</td>\n",
       "      <td>10.0</td>\n",
       "      <td>19.0</td>\n",
       "      <td>10.0</td>\n",
       "      <td>29.0</td>\n",
       "      <td>39.0</td>\n",
       "    </tr>\n",
       "    <tr>\n",
       "      <th>17</th>\n",
       "      <td>DEVA11</td>\n",
       "      <td>33.09</td>\n",
       "      <td>0.4600</td>\n",
       "      <td>16.02</td>\n",
       "      <td>0.34</td>\n",
       "      <td>520307.00</td>\n",
       "      <td>1.364551e+09</td>\n",
       "      <td>14044908.0</td>\n",
       "      <td>8.0</td>\n",
       "      <td>2.0</td>\n",
       "      <td>40.0</td>\n",
       "      <td>10.0</td>\n",
       "      <td>50.0</td>\n",
       "    </tr>\n",
       "    <tr>\n",
       "      <th>76</th>\n",
       "      <td>URPR11</td>\n",
       "      <td>39.77</td>\n",
       "      <td>0.4500</td>\n",
       "      <td>24.14</td>\n",
       "      <td>0.40</td>\n",
       "      <td>652422.38</td>\n",
       "      <td>1.170107e+09</td>\n",
       "      <td>11733895.0</td>\n",
       "      <td>1.0</td>\n",
       "      <td>3.0</td>\n",
       "      <td>47.0</td>\n",
       "      <td>4.0</td>\n",
       "      <td>51.0</td>\n",
       "    </tr>\n",
       "    <tr>\n",
       "      <th>72</th>\n",
       "      <td>TGAR11</td>\n",
       "      <td>85.49</td>\n",
       "      <td>1.0000</td>\n",
       "      <td>15.07</td>\n",
       "      <td>0.77</td>\n",
       "      <td>2937174.57</td>\n",
       "      <td>2.619551e+09</td>\n",
       "      <td>23567968.0</td>\n",
       "      <td>13.0</td>\n",
       "      <td>25.0</td>\n",
       "      <td>15.0</td>\n",
       "      <td>38.0</td>\n",
       "      <td>53.0</td>\n",
       "    </tr>\n",
       "    <tr>\n",
       "      <th>10</th>\n",
       "      <td>BRCR11</td>\n",
       "      <td>41.90</td>\n",
       "      <td>0.4100</td>\n",
       "      <td>13.48</td>\n",
       "      <td>0.49</td>\n",
       "      <td>885022.62</td>\n",
       "      <td>2.263416e+09</td>\n",
       "      <td>26638202.0</td>\n",
       "      <td>34.0</td>\n",
       "      <td>4.0</td>\n",
       "      <td>18.0</td>\n",
       "      <td>38.0</td>\n",
       "      <td>56.0</td>\n",
       "    </tr>\n",
       "    <tr>\n",
       "      <th>8</th>\n",
       "      <td>BPML11</td>\n",
       "      <td>79.80</td>\n",
       "      <td>0.9200</td>\n",
       "      <td>18.37</td>\n",
       "      <td>0.61</td>\n",
       "      <td>638566.62</td>\n",
       "      <td>9.690902e+08</td>\n",
       "      <td>7441745.0</td>\n",
       "      <td>2.0</td>\n",
       "      <td>10.0</td>\n",
       "      <td>51.0</td>\n",
       "      <td>12.0</td>\n",
       "      <td>63.0</td>\n",
       "    </tr>\n",
       "    <tr>\n",
       "      <th>51</th>\n",
       "      <td>MFII11</td>\n",
       "      <td>80.29</td>\n",
       "      <td>1.1100</td>\n",
       "      <td>17.09</td>\n",
       "      <td>0.77</td>\n",
       "      <td>654771.52</td>\n",
       "      <td>6.190007e+08</td>\n",
       "      <td>5962395.0</td>\n",
       "      <td>4.0</td>\n",
       "      <td>25.0</td>\n",
       "      <td>64.0</td>\n",
       "      <td>29.0</td>\n",
       "      <td>93.0</td>\n",
       "    </tr>\n",
       "    <tr>\n",
       "      <th>63</th>\n",
       "      <td>RBVA11</td>\n",
       "      <td>8.37</td>\n",
       "      <td>0.0900</td>\n",
       "      <td>13.38</td>\n",
       "      <td>0.79</td>\n",
       "      <td>1849928.67</td>\n",
       "      <td>1.659679e+09</td>\n",
       "      <td>156143050.0</td>\n",
       "      <td>35.0</td>\n",
       "      <td>30.0</td>\n",
       "      <td>31.0</td>\n",
       "      <td>65.0</td>\n",
       "      <td>96.0</td>\n",
       "    </tr>\n",
       "    <tr>\n",
       "      <th>6</th>\n",
       "      <td>BCRI11</td>\n",
       "      <td>63.65</td>\n",
       "      <td>0.8500</td>\n",
       "      <td>15.18</td>\n",
       "      <td>0.74</td>\n",
       "      <td>393173.52</td>\n",
       "      <td>5.359906e+08</td>\n",
       "      <td>6257873.0</td>\n",
       "      <td>12.0</td>\n",
       "      <td>21.5</td>\n",
       "      <td>65.0</td>\n",
       "      <td>33.5</td>\n",
       "      <td>98.5</td>\n",
       "    </tr>\n",
       "  </tbody>\n",
       "</table>\n",
       "</div>"
      ],
      "text/plain": [
       "    TICKER  PRECO  ULTIMO DIVIDENDO     DY  P/VP  LIQUIDEZ MEDIA DIARIA  \\\n",
       "23  HCTR11  23.45            0.3759  17.55  0.22              599526.00   \n",
       "36  IRDM11  60.80            0.8400  15.54  0.73             3429530.67   \n",
       "17  DEVA11  33.09            0.4600  16.02  0.34              520307.00   \n",
       "76  URPR11  39.77            0.4500  24.14  0.40              652422.38   \n",
       "72  TGAR11  85.49            1.0000  15.07  0.77             2937174.57   \n",
       "10  BRCR11  41.90            0.4100  13.48  0.49              885022.62   \n",
       "8   BPML11  79.80            0.9200  18.37  0.61              638566.62   \n",
       "51  MFII11  80.29            1.1100  17.09  0.77              654771.52   \n",
       "63  RBVA11   8.37            0.0900  13.38  0.79             1849928.67   \n",
       "6   BCRI11  63.65            0.8500  15.18  0.74              393173.52   \n",
       "\n",
       "      PATRIMONIO      N COTAS  ranking_dy  ranking_p_vp  ranking_patrimonio  \\\n",
       "23  2.307510e+09   22084202.0         3.0           1.0                17.0   \n",
       "36  3.018083e+09   36433827.0        10.0          19.0                10.0   \n",
       "17  1.364551e+09   14044908.0         8.0           2.0                40.0   \n",
       "76  1.170107e+09   11733895.0         1.0           3.0                47.0   \n",
       "72  2.619551e+09   23567968.0        13.0          25.0                15.0   \n",
       "10  2.263416e+09   26638202.0        34.0           4.0                18.0   \n",
       "8   9.690902e+08    7441745.0         2.0          10.0                51.0   \n",
       "51  6.190007e+08    5962395.0         4.0          25.0                64.0   \n",
       "63  1.659679e+09  156143050.0        35.0          30.0                31.0   \n",
       "6   5.359906e+08    6257873.0        12.0          21.5                65.0   \n",
       "\n",
       "    ranking_final  rank_final  \n",
       "23            4.0        21.0  \n",
       "36           29.0        39.0  \n",
       "17           10.0        50.0  \n",
       "76            4.0        51.0  \n",
       "72           38.0        53.0  \n",
       "10           38.0        56.0  \n",
       "8            12.0        63.0  \n",
       "51           29.0        93.0  \n",
       "63           65.0        96.0  \n",
       "6            33.5        98.5  "
      ]
     },
     "execution_count": 53,
     "metadata": {},
     "output_type": "execute_result"
    }
   ],
   "source": [
    "rank_final = data.sort_values(by='rank_final').head(10)\n",
    "rank_final"
   ]
  },
  {
   "cell_type": "code",
   "execution_count": 54,
   "id": "a75ae518",
   "metadata": {},
   "outputs": [
    {
     "data": {
      "image/png": "[encoded data removed]",
      "text/plain": [
       "<Figure size 640x480 with 1 Axes>"
      ]
     },
     "metadata": {},
     "output_type": "display_data"
    }
   ],
   "source": [
    "rank_final = data.sort_values(by='rank_final').head(10)\n",
    "\n",
    "ax = sns.barplot(rank_final.sort_values(by='DY', ascending=False),y='TICKER',x='DY',orient='h', color='#08F7FE')\n",
    "ax.bar_label(ax.containers[0])\n",
    "\n",
    "plt.title('Top 10 FIIs')\n",
    "plt.xlabel('Dividend Yield')\n",
    "plt.ylabel('Tickers')\n",
    "\n",
    "plt.show()"
   ]
  },
  {
   "cell_type": "markdown",
   "id": "38e687d6",
   "metadata": {},
   "source": [
    "## Analisando Carteiras"
   ]
  },
  {
   "cell_type": "code",
   "execution_count": 55,
   "id": "9f7850a0",
   "metadata": {},
   "outputs": [
    {
     "data": {
      "text/plain": [
       "['HCTR11.SA',\n",
       " 'IRDM11.SA',\n",
       " 'DEVA11.SA',\n",
       " 'URPR11.SA',\n",
       " 'TGAR11.SA',\n",
       " 'BRCR11.SA',\n",
       " 'BPML11.SA',\n",
       " 'MFII11.SA',\n",
       " 'RBVA11.SA',\n",
       " 'BCRI11.SA']"
      ]
     },
     "execution_count": 55,
     "metadata": {},
     "output_type": "execute_result"
    }
   ],
   "source": [
    "ativos = [x + '.SA' for x in rank_final['TICKER']]\n",
    "ativos"
   ]
  },
  {
   "cell_type": "code",
   "execution_count": 56,
   "id": "35537656",
   "metadata": {},
   "outputs": [
    {
     "name": "stderr",
     "output_type": "stream",
     "text": [
      "[*********************100%***********************]  10 of 10 completed\n"
     ]
    },
    {
     "data": {
      "application/vnd.microsoft.datawrangler.viewer.v0+json": {
       "columns": [
        {
         "name": "Date",
         "rawType": "datetime64[ns]",
         "type": "datetime"
        },
        {
         "name": "BCRI11.SA",
         "rawType": "float64",
         "type": "float"
        },
        {
         "name": "BPML11.SA",
         "rawType": "float64",
         "type": "float"
        },
        {
         "name": "BRCR11.SA",
         "rawType": "float64",
         "type": "float"
        },
        {
         "name": "DEVA11.SA",
         "rawType": "float64",
         "type": "float"
        },
        {
         "name": "HCTR11.SA",
         "rawType": "float64",
         "type": "float"
        },
        {
         "name": "IRDM11.SA",
         "rawType": "float64",
         "type": "float"
        },
        {
         "name": "MFII11.SA",
         "rawType": "float64",
         "type": "float"
        },
        {
         "name": "RBVA11.SA",
         "rawType": "float64",
         "type": "float"
        },
        {
         "name": "TGAR11.SA",
         "rawType": "float64",
         "type": "float"
        },
        {
         "name": "URPR11.SA",
         "rawType": "float64",
         "type": "float"
        }
       ],
       "ref": "4872e683-7551-4b18-a549-4193f99623fb",
       "rows": [
        [
         "2025-01-02 00:00:00",
         "53.36470031738281",
         "65.98223876953125",
         "38.62533187866211",
         "27.77155303955078",
         "15.650517463684082",
         "58.09718704223633",
         "84.66193389892578",
         "8.275843620300293",
         "81.01791381835938",
         "52.53981399536133"
        ],
        [
         "2025-01-03 00:00:00",
         "53.93971252441406",
         "64.93234252929688",
         "37.80035400390625",
         "27.400543212890625",
         "16.946643829345703",
         "58.46431350708008",
         "84.85851287841797",
         "8.450334548950195",
         "81.97919464111328",
         "52.678924560546875"
        ],
        [
         "2025-01-06 00:00:00",
         "55.82241439819336",
         "65.39897155761719",
         "37.902320861816406",
         "27.219560623168945",
         "16.27653694152832",
         "58.455135345458984",
         "85.18614959716797",
         "8.39856243133545",
         "81.53121948242188",
         "51.4454231262207"
        ],
        [
         "2025-01-07 00:00:00",
         "55.28449630737305",
         "65.78482055664062",
         "37.93013000488281",
         "27.17431640625",
         "16.32944107055664",
         "58.54692077636719",
         "85.18614959716797",
         "8.02177619934082",
         "81.81120300292969",
         "51.95552062988281"
        ],
        [
         "2025-01-08 00:00:00",
         "54.73731231689453",
         "65.955322265625",
         "37.92085647583008",
         "26.79425811767578",
         "15.738689422607422",
         "58.1338996887207",
         "84.93339538574219",
         "7.957540988922119",
         "79.54334259033203",
         "52.81804275512695"
        ]
       ],
       "shape": {
        "columns": 10,
        "rows": 5
       }
      },
      "text/html": [
       "<div>\n",
       "<style scoped>\n",
       "    .dataframe tbody tr th:only-of-type {\n",
       "        vertical-align: middle;\n",
       "    }\n",
       "\n",
       "    .dataframe tbody tr th {\n",
       "        vertical-align: top;\n",
       "    }\n",
       "\n",
       "    .dataframe thead th {\n",
       "        text-align: right;\n",
       "    }\n",
       "</style>\n",
       "<table border=\"1\" class=\"dataframe\">\n",
       "  <thead>\n",
       "    <tr style=\"text-align: right;\">\n",
       "      <th>Ticker</th>\n",
       "      <th>BCRI11.SA</th>\n",
       "      <th>BPML11.SA</th>\n",
       "      <th>BRCR11.SA</th>\n",
       "      <th>DEVA11.SA</th>\n",
       "      <th>HCTR11.SA</th>\n",
       "      <th>IRDM11.SA</th>\n",
       "      <th>MFII11.SA</th>\n",
       "      <th>RBVA11.SA</th>\n",
       "      <th>TGAR11.SA</th>\n",
       "      <th>URPR11.SA</th>\n",
       "    </tr>\n",
       "    <tr>\n",
       "      <th>Date</th>\n",
       "      <th></th>\n",
       "      <th></th>\n",
       "      <th></th>\n",
       "      <th></th>\n",
       "      <th></th>\n",
       "      <th></th>\n",
       "      <th></th>\n",
       "      <th></th>\n",
       "      <th></th>\n",
       "      <th></th>\n",
       "    </tr>\n",
       "  </thead>\n",
       "  <tbody>\n",
       "    <tr>\n",
       "      <th>2025-01-02</th>\n",
       "      <td>53.364700</td>\n",
       "      <td>65.982239</td>\n",
       "      <td>38.625332</td>\n",
       "      <td>27.771553</td>\n",
       "      <td>15.650517</td>\n",
       "      <td>58.097187</td>\n",
       "      <td>84.661934</td>\n",
       "      <td>8.275844</td>\n",
       "      <td>81.017914</td>\n",
       "      <td>52.539814</td>\n",
       "    </tr>\n",
       "    <tr>\n",
       "      <th>2025-01-03</th>\n",
       "      <td>53.939713</td>\n",
       "      <td>64.932343</td>\n",
       "      <td>37.800354</td>\n",
       "      <td>27.400543</td>\n",
       "      <td>16.946644</td>\n",
       "      <td>58.464314</td>\n",
       "      <td>84.858513</td>\n",
       "      <td>8.450335</td>\n",
       "      <td>81.979195</td>\n",
       "      <td>52.678925</td>\n",
       "    </tr>\n",
       "    <tr>\n",
       "      <th>2025-01-06</th>\n",
       "      <td>55.822414</td>\n",
       "      <td>65.398972</td>\n",
       "      <td>37.902321</td>\n",
       "      <td>27.219561</td>\n",
       "      <td>16.276537</td>\n",
       "      <td>58.455135</td>\n",
       "      <td>85.186150</td>\n",
       "      <td>8.398562</td>\n",
       "      <td>81.531219</td>\n",
       "      <td>51.445423</td>\n",
       "    </tr>\n",
       "    <tr>\n",
       "      <th>2025-01-07</th>\n",
       "      <td>55.284496</td>\n",
       "      <td>65.784821</td>\n",
       "      <td>37.930130</td>\n",
       "      <td>27.174316</td>\n",
       "      <td>16.329441</td>\n",
       "      <td>58.546921</td>\n",
       "      <td>85.186150</td>\n",
       "      <td>8.021776</td>\n",
       "      <td>81.811203</td>\n",
       "      <td>51.955521</td>\n",
       "    </tr>\n",
       "    <tr>\n",
       "      <th>2025-01-08</th>\n",
       "      <td>54.737312</td>\n",
       "      <td>65.955322</td>\n",
       "      <td>37.920856</td>\n",
       "      <td>26.794258</td>\n",
       "      <td>15.738689</td>\n",
       "      <td>58.133900</td>\n",
       "      <td>84.933395</td>\n",
       "      <td>7.957541</td>\n",
       "      <td>79.543343</td>\n",
       "      <td>52.818043</td>\n",
       "    </tr>\n",
       "  </tbody>\n",
       "</table>\n",
       "</div>"
      ],
      "text/plain": [
       "Ticker      BCRI11.SA  BPML11.SA  BRCR11.SA  DEVA11.SA  HCTR11.SA  IRDM11.SA  \\\n",
       "Date                                                                           \n",
       "2025-01-02  53.364700  65.982239  38.625332  27.771553  15.650517  58.097187   \n",
       "2025-01-03  53.939713  64.932343  37.800354  27.400543  16.946644  58.464314   \n",
       "2025-01-06  55.822414  65.398972  37.902321  27.219561  16.276537  58.455135   \n",
       "2025-01-07  55.284496  65.784821  37.930130  27.174316  16.329441  58.546921   \n",
       "2025-01-08  54.737312  65.955322  37.920856  26.794258  15.738689  58.133900   \n",
       "\n",
       "Ticker      MFII11.SA  RBVA11.SA  TGAR11.SA  URPR11.SA  \n",
       "Date                                                    \n",
       "2025-01-02  84.661934   8.275844  81.017914  52.539814  \n",
       "2025-01-03  84.858513   8.450335  81.979195  52.678925  \n",
       "2025-01-06  85.186150   8.398562  81.531219  51.445423  \n",
       "2025-01-07  85.186150   8.021776  81.811203  51.955521  \n",
       "2025-01-08  84.933395   7.957541  79.543343  52.818043  "
      ]
     },
     "execution_count": 56,
     "metadata": {},
     "output_type": "execute_result"
    }
   ],
   "source": [
    "from datetime import date\n",
    "\n",
    "inicio = '2025-01-01'\n",
    "fim = date.today()\n",
    "\n",
    "carteira = yf.download(tickers=ativos, start=inicio, end=fim)['Close']\n",
    "\n",
    "carteira.head()"
   ]
  },
  {
   "cell_type": "code",
   "execution_count": 57,
   "id": "f8f365c5",
   "metadata": {},
   "outputs": [],
   "source": [
    "pesos = 1/len(ativos)"
   ]
  },
  {
   "cell_type": "code",
   "execution_count": 58,
   "id": "77b59552",
   "metadata": {},
   "outputs": [
    {
     "data": {
      "text/plain": [
       "<Axes: xlabel='Date'>"
      ]
     },
     "execution_count": 58,
     "metadata": {},
     "output_type": "execute_result"
    },
    {
     "data": {
      "image/png": "[encoded data removed]",
      "text/plain": [
       "<Figure size 640x480 with 1 Axes>"
      ]
     },
     "metadata": {},
     "output_type": "display_data"
    }
   ],
   "source": [
    "((carteira/carteira.iloc[0]) - 1).plot()"
   ]
  },
  {
   "cell_type": "code",
   "execution_count": 59,
   "id": "9e8b1b9c",
   "metadata": {},
   "outputs": [
    {
     "data": {
      "text/plain": [
       "<Axes: xlabel='Date'>"
      ]
     },
     "execution_count": 59,
     "metadata": {},
     "output_type": "execute_result"
    },
    {
     "data": {
      "image/png": "[encoded data removed]",
      "text/plain": [
       "<Figure size 640x480 with 1 Axes>"
      ]
     },
     "metadata": {},
     "output_type": "display_data"
    }
   ],
   "source": [
    "retornos = carteira.pct_change()\n",
    "\n",
    "retorno_carteira = (retornos*pesos).sum(axis=1)\n",
    "\n",
    "retorno_carteira.plot()"
   ]
  },
  {
   "cell_type": "code",
   "execution_count": 60,
   "id": "0a29e1ae",
   "metadata": {},
   "outputs": [
    {
     "data": {
      "text/plain": [
       "<Axes: xlabel='Date'>"
      ]
     },
     "execution_count": 60,
     "metadata": {},
     "output_type": "execute_result"
    },
    {
     "data": {
      "image/png": "[encoded data removed]",
      "text/plain": [
       "<Figure size 640x480 with 1 Axes>"
      ]
     },
     "metadata": {},
     "output_type": "display_data"
    }
   ],
   "source": [
    "retorno_acum_carteira = (1 + retorno_carteira).cumprod() - 1\n",
    "\n",
    "retorno_acum_carteira.plot()"
   ]
  },
  {
   "cell_type": "code",
   "execution_count": 61,
   "id": "b58d2a2b",
   "metadata": {},
   "outputs": [
    {
     "name": "stderr",
     "output_type": "stream",
     "text": [
      "[                       0%                       ]"
     ]
    },
    {
     "name": "stderr",
     "output_type": "stream",
     "text": [
      "[*********************100%***********************]  10 of 10 completed\n"
     ]
    },
    {
     "data": {
      "text/plain": [
       "<Axes: xlabel='Date'>"
      ]
     },
     "execution_count": 61,
     "metadata": {},
     "output_type": "execute_result"
    },
    {
     "data": {
      "image/png": "[encoded data removed]",
      "text/plain": [
       "<Figure size 640x480 with 1 Axes>"
      ]
     },
     "metadata": {},
     "output_type": "display_data"
    }
   ],
   "source": [
    "# Ranking final considerando apenas os indicadores de DY e P/VP\n",
    "\n",
    "ranking_dy_pvp = data.sort_values(by='ranking_final').head(10)\n",
    "\n",
    "ativos = [x + '.SA' for x in ranking_dy_pvp['TICKER']]\n",
    "\n",
    "inicio = '2025-01-01'\n",
    "fim = date.today()\n",
    "\n",
    "carteira_v2 = yf.download(tickers=ativos, start=inicio, end=fim)['Close']\n",
    "\n",
    "(carteira_v2/carteira_v2.iloc[0] - 1).plot()"
   ]
  },
  {
   "cell_type": "code",
   "execution_count": 62,
   "id": "b000b1c9",
   "metadata": {},
   "outputs": [
    {
     "data": {
      "text/plain": [
       "<Axes: xlabel='Date'>"
      ]
     },
     "execution_count": 62,
     "metadata": {},
     "output_type": "execute_result"
    },
    {
     "data": {
      "image/png": "[encoded data removed]",
      "text/plain": [
       "<Figure size 640x480 with 1 Axes>"
      ]
     },
     "metadata": {},
     "output_type": "display_data"
    }
   ],
   "source": [
    "retornos = carteira_v2.pct_change()\n",
    "\n",
    "retorno_carteira = (retornos*pesos).sum(axis=1)\n",
    "\n",
    "retorno_acum_carteira_v2 =  (1 + retorno_carteira).cumprod() - 1\n",
    "\n",
    "retorno_acum_carteira_v2.plot()"
   ]
  },
  {
   "cell_type": "markdown",
   "id": "ec6e2e4c",
   "metadata": {},
   "source": [
    "### Comparativo com IFIX"
   ]
  },
  {
   "cell_type": "code",
   "execution_count": 63,
   "id": "55931926",
   "metadata": {},
   "outputs": [
    {
     "name": "stderr",
     "output_type": "stream",
     "text": [
      "[*********************100%***********************]  1 of 1 completed"
     ]
    },
    {
     "name": "stderr",
     "output_type": "stream",
     "text": [
      "\n"
     ]
    },
    {
     "data": {
      "text/plain": [
       "<Axes: xlabel='Date'>"
      ]
     },
     "execution_count": 63,
     "metadata": {},
     "output_type": "execute_result"
    },
    {
     "data": {
      "image/png": "[encoded data removed]",
      "text/plain": [
       "<Figure size 640x480 with 1 Axes>"
      ]
     },
     "metadata": {},
     "output_type": "display_data"
    }
   ],
   "source": [
    "ifix = yf.download('XFIX11.SA', start=inicio, end=fim)['Close']\n",
    "\n",
    "retorno_ifix = ifix.pct_change()\n",
    "\n",
    "retorno_acum_ifix = (1 + retorno_ifix).cumprod() - 1\n",
    "\n",
    "retorno_portfolio = pd.DataFrame()\n",
    "retorno_portfolio['Carteira V1'] = retorno_acum_carteira\n",
    "retorno_portfolio['Carteira V2'] = retorno_acum_carteira_v2\n",
    "retorno_portfolio['IFIX'] = retorno_acum_ifix\n",
    "\n",
    "retorno_portfolio.plot()"
   ]
  },
  {
   "cell_type": "code",
   "execution_count": null,
   "id": "a70d34ef",
   "metadata": {},
   "outputs": [],
   "source": []
  }
 ],
 "metadata": {
  "kernelspec": {
   "display_name": "Python 3",
   "language": "python",
   "name": "python3"
  },
  "language_info": {
   "codemirror_mode": {
    "name": "ipython",
    "version": 3
   },
   "file_extension": ".py",
   "mimetype": "text/x-python",
   "name": "python",
   "nbconvert_exporter": "python",
   "pygments_lexer": "ipython3",
   "version": "3.11.9"
  }
 },
 "nbformat": 4,
 "nbformat_minor": 5
}
